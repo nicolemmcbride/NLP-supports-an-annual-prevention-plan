{
 "cells": [
  {
   "cell_type": "markdown",
   "id": "762aa70e",
   "metadata": {},
   "source": [
    "# 4. Sentiment Analysis"
   ]
  },
  {
   "cell_type": "markdown",
   "id": "a1dd75f7",
   "metadata": {},
   "source": [
    "### Loading in data"
   ]
  },
  {
   "cell_type": "code",
   "execution_count": 147,
   "id": "2bc8c3d1",
   "metadata": {},
   "outputs": [],
   "source": [
    "#pip install vaderSentiment"
   ]
  },
  {
   "cell_type": "code",
   "execution_count": 148,
   "id": "d46feff1",
   "metadata": {},
   "outputs": [],
   "source": [
    "from vaderSentiment.vaderSentiment import SentimentIntensityAnalyzer\n",
    "import pandas as pd"
   ]
  },
  {
   "cell_type": "code",
   "execution_count": 1,
   "id": "7fc33ec4",
   "metadata": {},
   "outputs": [],
   "source": [
    "#df = pd.read_pickle(\"df_clean_no_lemma.pkl\")  \n",
    "#df.head()\n",
    "#input for sentiment analysis is the corpus"
   ]
  },
  {
   "cell_type": "code",
   "execution_count": 150,
   "id": "43540ea9",
   "metadata": {},
   "outputs": [
    {
     "name": "stdout",
     "output_type": "stream",
     "text": [
      "<class 'pandas.core.frame.DataFrame'>\n",
      "Int64Index: 182 entries, 1 to 195\n",
      "Data columns (total 16 columns):\n",
      " #   Column        Non-Null Count  Dtype  \n",
      "---  ------        --------------  -----  \n",
      " 0   Q1 years      177 non-null    float64\n",
      " 1   Q2 years      176 non-null    float64\n",
      " 2   Q3            173 non-null    object \n",
      " 3   Q4            180 non-null    float64\n",
      " 4   Q5            79 non-null     object \n",
      " 5   Q6            155 non-null    float64\n",
      " 6   Q7            39 non-null     object \n",
      " 7   Q8            98 non-null     object \n",
      " 8   Q9            73 non-null     object \n",
      " 9   Q10           109 non-null    object \n",
      " 10  Q11           109 non-null    object \n",
      " 11  Q12           149 non-null    float64\n",
      " 12  Q13           17 non-null     object \n",
      " 13  Q14           112 non-null    object \n",
      " 14  Q15           86 non-null     object \n",
      " 15  Q16 rank_cat  152 non-null    float64\n",
      "dtypes: float64(6), object(10)\n",
      "memory usage: 24.2+ KB\n"
     ]
    }
   ],
   "source": [
    "df.info()"
   ]
  },
  {
   "cell_type": "markdown",
   "id": "6966fa11",
   "metadata": {},
   "source": [
    "# 4.1 Q5\n",
    "Q5: If yes, what have you seen or heard?  <b>Topic modeling and sentiment analysis</b>  "
   ]
  },
  {
   "cell_type": "code",
   "execution_count": 2,
   "id": "744fddfa",
   "metadata": {},
   "outputs": [],
   "source": [
    "#q5 = df['Q5'].dropna(axis=0)\n",
    "#q5"
   ]
  },
  {
   "cell_type": "code",
   "execution_count": 152,
   "id": "e66072e8",
   "metadata": {},
   "outputs": [],
   "source": [
    "#converting it to a df now\n",
    "q5 = q5.to_frame()"
   ]
  },
  {
   "cell_type": "code",
   "execution_count": 153,
   "id": "28cf6d03",
   "metadata": {
    "scrolled": true
   },
   "outputs": [
    {
     "name": "stdout",
     "output_type": "stream",
     "text": [
      "<class 'pandas.core.frame.DataFrame'>\n",
      "Int64Index: 79 entries, 6 to 195\n",
      "Data columns (total 1 columns):\n",
      " #   Column  Non-Null Count  Dtype \n",
      "---  ------  --------------  ----- \n",
      " 0   Q5      79 non-null     object\n",
      "dtypes: object(1)\n",
      "memory usage: 1.2+ KB\n"
     ]
    }
   ],
   "source": [
    "#sanity check\n",
    "q5.info()"
   ]
  },
  {
   "cell_type": "code",
   "execution_count": 3,
   "id": "83045d55",
   "metadata": {
    "scrolled": true
   },
   "outputs": [],
   "source": [
    "#code taken from nlp exercise 7 Metis\n",
    "#analyzer = SentimentIntensityAnalyzer()\n",
    "#q5['score'] = q5['Q5'].map(analyzer.polarity_scores).map(lambda x: x.get('compound'))\n",
    "#q5.head()\n",
    "#The compound score is the sum of positive, negative & neutral scores which is \n",
    "#then normalized between -1(most extreme negative) and +1 (most extreme positive). \n",
    "#The more Compound score closer to +1, the higher the positivity of the text..\n"
   ]
  },
  {
   "cell_type": "code",
   "execution_count": 4,
   "id": "d62629c1",
   "metadata": {
    "scrolled": true
   },
   "outputs": [],
   "source": [
    "#lowest score\n",
    "#print(q5[q5.score == q5.score.min()])"
   ]
  },
  {
   "cell_type": "code",
   "execution_count": 5,
   "id": "2b4b6064",
   "metadata": {
    "scrolled": true
   },
   "outputs": [],
   "source": [
    "#highest score\n",
    "#print(q5[q5.score == q5.score.max()])"
   ]
  },
  {
   "cell_type": "code",
   "execution_count": 157,
   "id": "712e5397",
   "metadata": {},
   "outputs": [
    {
     "data": {
      "text/plain": [
       "0.08622911392405065"
      ]
     },
     "execution_count": 157,
     "metadata": {},
     "output_type": "execute_result"
    }
   ],
   "source": [
    "#what is the average sentiment across the 109 responses?\n",
    "q5.score.mean()\n",
    "#pretty neutral score..."
   ]
  },
  {
   "cell_type": "markdown",
   "id": "eeadac26",
   "metadata": {},
   "source": [
    "Let's merge back in Q1, Q2, Q4, Q6, Q12, Q16 to see differences.... "
   ]
  },
  {
   "cell_type": "code",
   "execution_count": 158,
   "id": "39895944",
   "metadata": {},
   "outputs": [],
   "source": [
    "#https://www.statology.org/pandas-merge-on-index/\n",
    "df_q5_only = pd.merge(df, q5, left_index=True, right_index=True)"
   ]
  },
  {
   "cell_type": "code",
   "execution_count": 159,
   "id": "398eb4c1",
   "metadata": {},
   "outputs": [
    {
     "name": "stdout",
     "output_type": "stream",
     "text": [
      "<class 'pandas.core.frame.DataFrame'>\n",
      "Int64Index: 79 entries, 6 to 195\n",
      "Data columns (total 18 columns):\n",
      " #   Column        Non-Null Count  Dtype  \n",
      "---  ------        --------------  -----  \n",
      " 0   Q1 years      77 non-null     float64\n",
      " 1   Q2 years      76 non-null     float64\n",
      " 2   Q3            79 non-null     object \n",
      " 3   Q4            78 non-null     float64\n",
      " 4   Q5_x          79 non-null     object \n",
      " 5   Q6            79 non-null     float64\n",
      " 6   Q7            32 non-null     object \n",
      " 7   Q8            62 non-null     object \n",
      " 8   Q9            44 non-null     object \n",
      " 9   Q10           65 non-null     object \n",
      " 10  Q11           65 non-null     object \n",
      " 11  Q12           77 non-null     float64\n",
      " 12  Q13           14 non-null     object \n",
      " 13  Q14           70 non-null     object \n",
      " 14  Q15           53 non-null     object \n",
      " 15  Q16 rank_cat  76 non-null     float64\n",
      " 16  Q5_y          79 non-null     object \n",
      " 17  score         79 non-null     float64\n",
      "dtypes: float64(7), object(11)\n",
      "memory usage: 11.7+ KB\n"
     ]
    }
   ],
   "source": [
    "df_q5_only.info()\n",
    "#need to delete duplicate variables"
   ]
  },
  {
   "cell_type": "code",
   "execution_count": 160,
   "id": "4535c12e",
   "metadata": {},
   "outputs": [
    {
     "name": "stdout",
     "output_type": "stream",
     "text": [
      "<class 'pandas.core.frame.DataFrame'>\n",
      "Int64Index: 79 entries, 6 to 195\n",
      "Data columns (total 17 columns):\n",
      " #   Column        Non-Null Count  Dtype  \n",
      "---  ------        --------------  -----  \n",
      " 0   Q1 years      77 non-null     float64\n",
      " 1   Q2 years      76 non-null     float64\n",
      " 2   Q3            79 non-null     object \n",
      " 3   Q4            78 non-null     float64\n",
      " 4   Q5            79 non-null     object \n",
      " 5   Q6            79 non-null     float64\n",
      " 6   Q7            32 non-null     object \n",
      " 7   Q8            62 non-null     object \n",
      " 8   Q9            44 non-null     object \n",
      " 9   Q10           65 non-null     object \n",
      " 10  Q11           65 non-null     object \n",
      " 11  Q12           77 non-null     float64\n",
      " 12  Q13           14 non-null     object \n",
      " 13  Q14           70 non-null     object \n",
      " 14  Q15           53 non-null     object \n",
      " 15  Q16 rank_cat  76 non-null     float64\n",
      " 16  score         79 non-null     float64\n",
      "dtypes: float64(7), object(10)\n",
      "memory usage: 11.1+ KB\n"
     ]
    }
   ],
   "source": [
    "df_q5_only = df_q5_only.drop('Q5_y', axis=1)\n",
    "df_q5_only.rename(columns={\"Q5_x\": \"Q5\"}, inplace=True)\n",
    "\n",
    "df_q5_only.info()"
   ]
  },
  {
   "cell_type": "code",
   "execution_count": 161,
   "id": "8580b4c1",
   "metadata": {
    "scrolled": true
   },
   "outputs": [
    {
     "data": {
      "text/plain": [
       "1.0    44\n",
       "2.0    13\n",
       "5.0     7\n",
       "3.0     6\n",
       "4.0     5\n",
       "6.0     1\n",
       "Name: Q16 rank_cat, dtype: int64"
      ]
     },
     "execution_count": 161,
     "metadata": {},
     "output_type": "execute_result"
    }
   ],
   "source": [
    "df_q5_only[\"Q16 rank_cat\"].value_counts()"
   ]
  },
  {
   "cell_type": "code",
   "execution_count": 162,
   "id": "94fd45d9",
   "metadata": {},
   "outputs": [
    {
     "data": {
      "text/plain": [
       "Q16 rank_cat\n",
       "1.0    0.113700\n",
       "2.0    0.244131\n",
       "3.0   -0.001617\n",
       "4.0   -0.127380\n",
       "5.0   -0.008657\n",
       "6.0   -0.296000\n",
       "Name: score, dtype: float64"
      ]
     },
     "execution_count": 162,
     "metadata": {},
     "output_type": "execute_result"
    }
   ],
   "source": [
    "df_q5_only.groupby([\"Q16 rank_cat\"]).score.mean()\n",
    "\n",
    "#E1-E3: Junior (1)  \n",
    "#E4-E5: NCO (2)  \n",
    "#E6+: SNCO (3)  \n",
    "#Officer: O1+ (4)  \n",
    "#Spouse/Dep: (5)  \n",
    "#Other: (6)"
   ]
  },
  {
   "cell_type": "markdown",
   "id": "af8af022",
   "metadata": {},
   "source": [
    "Q12: Do you think there are problems here related to child abuse or domestic abuse?  <b>Coded as Yes (1), No (0)</b>  \n"
   ]
  },
  {
   "cell_type": "code",
   "execution_count": 163,
   "id": "ab8795ab",
   "metadata": {
    "scrolled": true
   },
   "outputs": [
    {
     "data": {
      "text/plain": [
       "Q12\n",
       "0.0    0.130280\n",
       "1.0   -0.028511\n",
       "Name: score, dtype: float64"
      ]
     },
     "execution_count": 163,
     "metadata": {},
     "output_type": "execute_result"
    }
   ],
   "source": [
    "df_q5_only.groupby([\"Q12\"]).score.mean()"
   ]
  },
  {
   "cell_type": "markdown",
   "id": "f1e0f179",
   "metadata": {},
   "source": [
    "Q6: Do you have awareness of the prevention services offered by the [CLINIC]?  <b>Coded as Yes (1), No (0)</b>    "
   ]
  },
  {
   "cell_type": "code",
   "execution_count": 164,
   "id": "763bd4d7",
   "metadata": {
    "scrolled": true
   },
   "outputs": [
    {
     "data": {
      "text/plain": [
       "Q6\n",
       "0.0    0.087443\n",
       "1.0    0.084536\n",
       "Name: score, dtype: float64"
      ]
     },
     "execution_count": 164,
     "metadata": {},
     "output_type": "execute_result"
    }
   ],
   "source": [
    "df_q5_only.groupby([\"Q6\"]).score.mean()"
   ]
  },
  {
   "cell_type": "markdown",
   "id": "17cfb78b",
   "metadata": {},
   "source": [
    "Q4: Do you have awareness of the [CLINIC] and what it does?  <b>Coded as Yes (1), No (0)</b>"
   ]
  },
  {
   "cell_type": "code",
   "execution_count": 165,
   "id": "13a28fa5",
   "metadata": {
    "scrolled": true
   },
   "outputs": [
    {
     "data": {
      "text/plain": [
       "Q4\n",
       "1.0    0.081688\n",
       "Name: score, dtype: float64"
      ]
     },
     "execution_count": 165,
     "metadata": {},
     "output_type": "execute_result"
    }
   ],
   "source": [
    "df_q5_only.groupby([\"Q4\"]).score.mean()"
   ]
  },
  {
   "cell_type": "markdown",
   "id": "bd8472a3",
   "metadata": {},
   "source": [
    "Q2: How long have you been in the [DOD] (or connected to the [DOD], if civilian)?  <b>Coded as YEARS</b>  "
   ]
  },
  {
   "cell_type": "code",
   "execution_count": 166,
   "id": "fb3b01c0",
   "metadata": {
    "scrolled": true
   },
   "outputs": [
    {
     "data": {
      "image/png": "[encoded data removed]",
      "text/plain": [
       "<Figure size 842.4x595.44 with 1 Axes>"
      ]
     },
     "metadata": {},
     "output_type": "display_data"
    }
   ],
   "source": [
    "import numpy as np\n",
    "import matplotlib.pyplot as plt\n",
    "\n",
    "plt.scatter(df_q5_only['Q2 years'], df_q5_only['score'], alpha=0.5)\n",
    "plt.show()"
   ]
  },
  {
   "cell_type": "markdown",
   "id": "dd9dbba3",
   "metadata": {},
   "source": [
    "Q1: How long have you been on [LOCATION]?  <b>Coded as YEARS</b>  "
   ]
  },
  {
   "cell_type": "code",
   "execution_count": 167,
   "id": "3e217732",
   "metadata": {
    "scrolled": true
   },
   "outputs": [
    {
     "data": {
      "image/png": "[encoded data removed]",
      "text/plain": [
       "<Figure size 842.4x595.44 with 1 Axes>"
      ]
     },
     "metadata": {},
     "output_type": "display_data"
    }
   ],
   "source": [
    "import numpy as np\n",
    "import matplotlib.pyplot as plt\n",
    "\n",
    "plt.scatter(df_q5_only['Q1 years'], df_q5_only['score'], alpha=0.5)\n",
    "plt.show()"
   ]
  },
  {
   "cell_type": "markdown",
   "id": "3e5df0ca",
   "metadata": {},
   "source": [
    "# 4.2 Q7\n",
    "Q5: If yes, what have you seen or heard?  <b>Topic modeling and sentiment analysis</b>  "
   ]
  },
  {
   "cell_type": "code",
   "execution_count": 6,
   "id": "53face16",
   "metadata": {},
   "outputs": [],
   "source": [
    "#q7 = df['Q7'].dropna(axis=0)\n",
    "#q7"
   ]
  },
  {
   "cell_type": "code",
   "execution_count": 169,
   "id": "e719f2af",
   "metadata": {},
   "outputs": [],
   "source": [
    "#converting it to a df now\n",
    "q7 = q7.to_frame()"
   ]
  },
  {
   "cell_type": "code",
   "execution_count": 170,
   "id": "46a04a63",
   "metadata": {
    "scrolled": true
   },
   "outputs": [
    {
     "name": "stdout",
     "output_type": "stream",
     "text": [
      "<class 'pandas.core.frame.DataFrame'>\n",
      "Int64Index: 39 entries, 6 to 195\n",
      "Data columns (total 1 columns):\n",
      " #   Column  Non-Null Count  Dtype \n",
      "---  ------  --------------  ----- \n",
      " 0   Q7      39 non-null     object\n",
      "dtypes: object(1)\n",
      "memory usage: 624.0+ bytes\n"
     ]
    }
   ],
   "source": [
    "#sanity check\n",
    "q7.info()"
   ]
  },
  {
   "cell_type": "code",
   "execution_count": 7,
   "id": "dc823341",
   "metadata": {
    "scrolled": true
   },
   "outputs": [],
   "source": [
    "#code taken from nlp exercise 7 Metis\n",
    "#analyzer = SentimentIntensityAnalyzer()\n",
    "#q7['score'] = q7['Q7'].map(analyzer.polarity_scores).map(lambda x: x.get('compound'))\n",
    "#q7.head()\n",
    "#The compound score is the sum of positive, negative & neutral scores which is \n",
    "#then normalized between -1(most extreme negative) and +1 (most extreme positive). \n",
    "#The more Compound score closer to +1, the higher the positivity of the text..\n"
   ]
  },
  {
   "cell_type": "code",
   "execution_count": 8,
   "id": "d489f758",
   "metadata": {
    "scrolled": true
   },
   "outputs": [],
   "source": [
    "#lowest score\n",
    "#print(q7[q7.score == q7.score.min()])"
   ]
  },
  {
   "cell_type": "code",
   "execution_count": 9,
   "id": "78306817",
   "metadata": {
    "scrolled": true
   },
   "outputs": [],
   "source": [
    "#highest score\n",
    "#print(q7[q7.score == q7.score.max()])"
   ]
  },
  {
   "cell_type": "code",
   "execution_count": 174,
   "id": "21b2a102",
   "metadata": {},
   "outputs": [
    {
     "data": {
      "text/plain": [
       "-0.005356410256410266"
      ]
     },
     "execution_count": 174,
     "metadata": {},
     "output_type": "execute_result"
    }
   ],
   "source": [
    "#what is the average sentiment across the 109 responses?\n",
    "q7.score.mean()\n",
    "#pretty neutral score..."
   ]
  },
  {
   "cell_type": "markdown",
   "id": "a7ecc7f2",
   "metadata": {},
   "source": [
    "Let's merge back in Q1, Q2, Q4, Q6, Q12, Q16 to see differences.... "
   ]
  },
  {
   "cell_type": "code",
   "execution_count": 175,
   "id": "ba7553a2",
   "metadata": {},
   "outputs": [],
   "source": [
    "#https://www.statology.org/pandas-merge-on-index/\n",
    "df_q7_only = pd.merge(df, q7, left_index=True, right_index=True)"
   ]
  },
  {
   "cell_type": "code",
   "execution_count": 176,
   "id": "bd50cf4e",
   "metadata": {},
   "outputs": [
    {
     "name": "stdout",
     "output_type": "stream",
     "text": [
      "<class 'pandas.core.frame.DataFrame'>\n",
      "Int64Index: 39 entries, 6 to 195\n",
      "Data columns (total 18 columns):\n",
      " #   Column        Non-Null Count  Dtype  \n",
      "---  ------        --------------  -----  \n",
      " 0   Q1 years      38 non-null     float64\n",
      " 1   Q2 years      38 non-null     float64\n",
      " 2   Q3            38 non-null     object \n",
      " 3   Q4            38 non-null     float64\n",
      " 4   Q5            32 non-null     object \n",
      " 5   Q6            39 non-null     float64\n",
      " 6   Q7_x          39 non-null     object \n",
      " 7   Q8            37 non-null     object \n",
      " 8   Q9            28 non-null     object \n",
      " 9   Q10           36 non-null     object \n",
      " 10  Q11           37 non-null     object \n",
      " 11  Q12           38 non-null     float64\n",
      " 12  Q13           9 non-null      object \n",
      " 13  Q14           36 non-null     object \n",
      " 14  Q15           28 non-null     object \n",
      " 15  Q16 rank_cat  39 non-null     float64\n",
      " 16  Q7_y          39 non-null     object \n",
      " 17  score         39 non-null     float64\n",
      "dtypes: float64(7), object(11)\n",
      "memory usage: 5.8+ KB\n"
     ]
    }
   ],
   "source": [
    "df_q7_only.info()\n",
    "#need to delete duplicate variables"
   ]
  },
  {
   "cell_type": "code",
   "execution_count": 177,
   "id": "26accbe1",
   "metadata": {},
   "outputs": [
    {
     "name": "stdout",
     "output_type": "stream",
     "text": [
      "<class 'pandas.core.frame.DataFrame'>\n",
      "Int64Index: 39 entries, 6 to 195\n",
      "Data columns (total 17 columns):\n",
      " #   Column        Non-Null Count  Dtype  \n",
      "---  ------        --------------  -----  \n",
      " 0   Q1 years      38 non-null     float64\n",
      " 1   Q2 years      38 non-null     float64\n",
      " 2   Q3            38 non-null     object \n",
      " 3   Q4            38 non-null     float64\n",
      " 4   Q5            32 non-null     object \n",
      " 5   Q6            39 non-null     float64\n",
      " 6   Q7            39 non-null     object \n",
      " 7   Q8            37 non-null     object \n",
      " 8   Q9            28 non-null     object \n",
      " 9   Q10           36 non-null     object \n",
      " 10  Q11           37 non-null     object \n",
      " 11  Q12           38 non-null     float64\n",
      " 12  Q13           9 non-null      object \n",
      " 13  Q14           36 non-null     object \n",
      " 14  Q15           28 non-null     object \n",
      " 15  Q16 rank_cat  39 non-null     float64\n",
      " 16  score         39 non-null     float64\n",
      "dtypes: float64(7), object(10)\n",
      "memory usage: 5.5+ KB\n"
     ]
    }
   ],
   "source": [
    "df_q7_only = df_q7_only.drop('Q7_y', axis=1)\n",
    "df_q7_only.rename(columns={\"Q7_x\": \"Q7\"}, inplace=True)\n",
    "\n",
    "df_q7_only.info()"
   ]
  },
  {
   "cell_type": "code",
   "execution_count": 178,
   "id": "9c33f16f",
   "metadata": {},
   "outputs": [
    {
     "data": {
      "text/plain": [
       "2.0    13\n",
       "1.0    11\n",
       "5.0     7\n",
       "4.0     5\n",
       "3.0     3\n",
       "Name: Q16 rank_cat, dtype: int64"
      ]
     },
     "execution_count": 178,
     "metadata": {},
     "output_type": "execute_result"
    }
   ],
   "source": [
    "df_q7_only[\"Q16 rank_cat\"].value_counts()"
   ]
  },
  {
   "cell_type": "code",
   "execution_count": 179,
   "id": "fdbacb12",
   "metadata": {},
   "outputs": [
    {
     "data": {
      "text/plain": [
       "Q16 rank_cat\n",
       "1.0    0.019745\n",
       "2.0   -0.030608\n",
       "3.0    0.019533\n",
       "4.0    0.008180\n",
       "5.0   -0.018243\n",
       "Name: score, dtype: float64"
      ]
     },
     "execution_count": 179,
     "metadata": {},
     "output_type": "execute_result"
    }
   ],
   "source": [
    "df_q7_only.groupby([\"Q16 rank_cat\"]).score.mean()\n",
    "\n",
    "#E1-E3: Junior (1)  \n",
    "#E4-E5: NCO (2)  \n",
    "#E6+: SNCO (3)  \n",
    "#Officer: O1+ (4)  \n",
    "#Spouse/Dep: (5)  \n",
    "#Other: (6)"
   ]
  },
  {
   "cell_type": "markdown",
   "id": "98a58d6e",
   "metadata": {},
   "source": [
    "Q12: Do you think there are problems here related to child abuse or domestic abuse?  <b>Coded as Yes (1), No (0)</b>  \n"
   ]
  },
  {
   "cell_type": "code",
   "execution_count": 180,
   "id": "a6d75eb1",
   "metadata": {
    "scrolled": false
   },
   "outputs": [
    {
     "data": {
      "text/plain": [
       "Q12\n",
       "0.0    0.018782\n",
       "1.0   -0.009790\n",
       "Name: score, dtype: float64"
      ]
     },
     "execution_count": 180,
     "metadata": {},
     "output_type": "execute_result"
    }
   ],
   "source": [
    "df_q7_only.groupby([\"Q12\"]).score.mean()"
   ]
  },
  {
   "cell_type": "markdown",
   "id": "b1155704",
   "metadata": {},
   "source": [
    "Q6: Do you have awareness of the prevention services offered by the [CLINIC]?  <b>Coded as Yes (1), No (0)</b>    "
   ]
  },
  {
   "cell_type": "code",
   "execution_count": 181,
   "id": "99f325d1",
   "metadata": {
    "scrolled": true
   },
   "outputs": [
    {
     "data": {
      "text/plain": [
       "Q6\n",
       "0.0    0.127267\n",
       "1.0   -0.016408\n",
       "Name: score, dtype: float64"
      ]
     },
     "execution_count": 181,
     "metadata": {},
     "output_type": "execute_result"
    }
   ],
   "source": [
    "df_q7_only.groupby([\"Q6\"]).score.mean()"
   ]
  },
  {
   "cell_type": "markdown",
   "id": "a92212a7",
   "metadata": {},
   "source": [
    "Q4: Do you have awareness of the [CLINIC] and what it does?  <b>Coded as Yes (1), No (0)</b>"
   ]
  },
  {
   "cell_type": "code",
   "execution_count": 182,
   "id": "cb59d08b",
   "metadata": {
    "scrolled": true
   },
   "outputs": [
    {
     "data": {
      "text/plain": [
       "Q4\n",
       "0.0   -0.000360\n",
       "1.0   -0.018455\n",
       "Name: score, dtype: float64"
      ]
     },
     "execution_count": 182,
     "metadata": {},
     "output_type": "execute_result"
    }
   ],
   "source": [
    "df_q7_only.groupby([\"Q4\"]).score.mean()"
   ]
  },
  {
   "cell_type": "markdown",
   "id": "959b7b2a",
   "metadata": {},
   "source": [
    "Q2: How long have you been in the [DOD] (or connected to the [DOD], if civilian)?  <b>Coded as YEARS</b>  "
   ]
  },
  {
   "cell_type": "code",
   "execution_count": 183,
   "id": "76595ddb",
   "metadata": {
    "scrolled": true
   },
   "outputs": [
    {
     "data": {
      "image/png": "[encoded data removed]",
      "text/plain": [
       "<Figure size 842.4x595.44 with 1 Axes>"
      ]
     },
     "metadata": {},
     "output_type": "display_data"
    }
   ],
   "source": [
    "import numpy as np\n",
    "import matplotlib.pyplot as plt\n",
    "\n",
    "plt.scatter(df_q7_only['Q2 years'], df_q7_only['score'], alpha=0.5)\n",
    "plt.show()"
   ]
  },
  {
   "cell_type": "markdown",
   "id": "d79e7598",
   "metadata": {},
   "source": [
    "Q1: How long have you been on [LOCATION]?  <b>Coded as YEARS</b>  "
   ]
  },
  {
   "cell_type": "code",
   "execution_count": 184,
   "id": "7ef0e7f4",
   "metadata": {
    "scrolled": true
   },
   "outputs": [
    {
     "data": {
      "image/png": "[encoded data removed]",
      "text/plain": [
       "<Figure size 842.4x595.44 with 1 Axes>"
      ]
     },
     "metadata": {},
     "output_type": "display_data"
    }
   ],
   "source": [
    "import numpy as np\n",
    "import matplotlib.pyplot as plt\n",
    "\n",
    "plt.scatter(df_q7_only['Q1 years'], df_q7_only['score'], alpha=0.5)\n",
    "plt.show()"
   ]
  },
  {
   "cell_type": "markdown",
   "id": "4626f5a2",
   "metadata": {},
   "source": [
    "# 4.3 Q9\n",
    "Q9: Do you have any other thoughts or suggestions?  <b>Topic modeling and sentiment analysis</b>  "
   ]
  },
  {
   "cell_type": "code",
   "execution_count": 10,
   "id": "27c45dc9",
   "metadata": {},
   "outputs": [],
   "source": [
    "#q14 = df['Q14'].dropna(axis=0)\n",
    "#q14"
   ]
  },
  {
   "cell_type": "code",
   "execution_count": 186,
   "id": "3fc3beec",
   "metadata": {},
   "outputs": [],
   "source": [
    "#converting it to a df now\n",
    "q14 = q14.to_frame()"
   ]
  },
  {
   "cell_type": "code",
   "execution_count": 187,
   "id": "2efaa596",
   "metadata": {},
   "outputs": [
    {
     "name": "stdout",
     "output_type": "stream",
     "text": [
      "<class 'pandas.core.frame.DataFrame'>\n",
      "Int64Index: 112 entries, 6 to 194\n",
      "Data columns (total 1 columns):\n",
      " #   Column  Non-Null Count  Dtype \n",
      "---  ------  --------------  ----- \n",
      " 0   Q14     112 non-null    object\n",
      "dtypes: object(1)\n",
      "memory usage: 1.8+ KB\n"
     ]
    }
   ],
   "source": [
    "#sanity check\n",
    "q14.info()"
   ]
  },
  {
   "cell_type": "code",
   "execution_count": 188,
   "id": "e2f616c8",
   "metadata": {
    "scrolled": true
   },
   "outputs": [
    {
     "data": {
      "text/html": [
       "<div>\n",
       "<style scoped>\n",
       "    .dataframe tbody tr th:only-of-type {\n",
       "        vertical-align: middle;\n",
       "    }\n",
       "\n",
       "    .dataframe tbody tr th {\n",
       "        vertical-align: top;\n",
       "    }\n",
       "\n",
       "    .dataframe thead th {\n",
       "        text-align: right;\n",
       "    }\n",
       "</style>\n",
       "<table border=\"1\" class=\"dataframe\">\n",
       "  <thead>\n",
       "    <tr style=\"text-align: right;\">\n",
       "      <th></th>\n",
       "      <th>Q14</th>\n",
       "      <th>score</th>\n",
       "    </tr>\n",
       "  </thead>\n",
       "  <tbody>\n",
       "    <tr>\n",
       "      <th>6</th>\n",
       "      <td>i do not know</td>\n",
       "      <td>0.0000</td>\n",
       "    </tr>\n",
       "    <tr>\n",
       "      <th>7</th>\n",
       "      <td>new co not sure yet</td>\n",
       "      <td>-0.2411</td>\n",
       "    </tr>\n",
       "    <tr>\n",
       "      <th>8</th>\n",
       "      <td>no we hardly have any contact with command at all and never hear from them</td>\n",
       "      <td>-0.2960</td>\n",
       "    </tr>\n",
       "    <tr>\n",
       "      <th>9</th>\n",
       "      <td>my spouse s command is very supportive of families and seems to do what is in the best interest of service members and the families</td>\n",
       "      <td>0.8655</td>\n",
       "    </tr>\n",
       "    <tr>\n",
       "      <th>10</th>\n",
       "      <td>they are giving training about the services you offer</td>\n",
       "      <td>0.3400</td>\n",
       "    </tr>\n",
       "  </tbody>\n",
       "</table>\n",
       "</div>"
      ],
      "text/plain": [
       "                                                                                                                                    Q14  \\\n",
       "6                                                                                                                         i do not know   \n",
       "7                                                                                                                  new co not sure yet    \n",
       "8                                                           no we hardly have any contact with command at all and never hear from them    \n",
       "9   my spouse s command is very supportive of families and seems to do what is in the best interest of service members and the families   \n",
       "10                                                                                they are giving training about the services you offer   \n",
       "\n",
       "     score  \n",
       "6   0.0000  \n",
       "7  -0.2411  \n",
       "8  -0.2960  \n",
       "9   0.8655  \n",
       "10  0.3400  "
      ]
     },
     "execution_count": 188,
     "metadata": {},
     "output_type": "execute_result"
    }
   ],
   "source": [
    "#code taken from nlp exercise 7 Metis\n",
    "analyzer = SentimentIntensityAnalyzer()\n",
    "q14['score'] = q14['Q14'].map(analyzer.polarity_scores).map(lambda x: x.get('compound'))\n",
    "q14.head()\n",
    "#The compound score is the sum of positive, negative & neutral scores which is \n",
    "#then normalized between -1(most extreme negative) and +1 (most extreme positive). \n",
    "#The more Compound score closer to +1, the higher the positivity of the text..\n"
   ]
  },
  {
   "cell_type": "code",
   "execution_count": 189,
   "id": "0c1244f0",
   "metadata": {},
   "outputs": [
    {
     "name": "stdout",
     "output_type": "stream",
     "text": [
      "                            Q14   score\n",
      "53  meet violence with violence -0.8481\n"
     ]
    }
   ],
   "source": [
    "#lowest score\n",
    "print(q14[q14.score == q14.score.min()])"
   ]
  },
  {
   "cell_type": "code",
   "execution_count": 190,
   "id": "d515930c",
   "metadata": {
    "scrolled": true
   },
   "outputs": [
    {
     "name": "stdout",
     "output_type": "stream",
     "text": [
      "                                                                                                                 Q14  \\\n",
      "60  i can not but i do know its zero tolerance and the command will ensure the family is given the necessary support   \n",
      "\n",
      "     score  \n",
      "60  0.8674  \n"
     ]
    }
   ],
   "source": [
    "#highest score\n",
    "print(q14[q14.score == q14.score.max()])"
   ]
  },
  {
   "cell_type": "code",
   "execution_count": 191,
   "id": "f80e32f9",
   "metadata": {},
   "outputs": [
    {
     "data": {
      "text/plain": [
       "0.0005062500000000067"
      ]
     },
     "execution_count": 191,
     "metadata": {},
     "output_type": "execute_result"
    }
   ],
   "source": [
    "#what is the average sentiment across the 109 responses?\n",
    "q14.score.mean()\n",
    "#pretty neutral score..."
   ]
  },
  {
   "cell_type": "markdown",
   "id": "83001faa",
   "metadata": {},
   "source": [
    "Let's merge back in Q1, Q2, Q4, Q6, Q12, Q16 to see differences.... \n",
    "\n"
   ]
  },
  {
   "cell_type": "code",
   "execution_count": 192,
   "id": "de7f50f2",
   "metadata": {},
   "outputs": [],
   "source": [
    "#https://www.statology.org/pandas-merge-on-index/\n",
    "df_q14_only = pd.merge(df, q14, left_index=True, right_index=True)"
   ]
  },
  {
   "cell_type": "code",
   "execution_count": 193,
   "id": "c72efdb6",
   "metadata": {},
   "outputs": [
    {
     "name": "stdout",
     "output_type": "stream",
     "text": [
      "<class 'pandas.core.frame.DataFrame'>\n",
      "Int64Index: 112 entries, 6 to 194\n",
      "Data columns (total 18 columns):\n",
      " #   Column        Non-Null Count  Dtype  \n",
      "---  ------        --------------  -----  \n",
      " 0   Q1 years      110 non-null    float64\n",
      " 1   Q2 years      108 non-null    float64\n",
      " 2   Q3            111 non-null    object \n",
      " 3   Q4            111 non-null    float64\n",
      " 4   Q5            70 non-null     object \n",
      " 5   Q6            112 non-null    float64\n",
      " 6   Q7            36 non-null     object \n",
      " 7   Q8            91 non-null     object \n",
      " 8   Q9            70 non-null     object \n",
      " 9   Q10           99 non-null     object \n",
      " 10  Q11           99 non-null     object \n",
      " 11  Q12           112 non-null    float64\n",
      " 12  Q13           16 non-null     object \n",
      " 13  Q14_x         112 non-null    object \n",
      " 14  Q15           84 non-null     object \n",
      " 15  Q16 rank_cat  111 non-null    float64\n",
      " 16  Q14_y         112 non-null    object \n",
      " 17  score         112 non-null    float64\n",
      "dtypes: float64(7), object(11)\n",
      "memory usage: 16.6+ KB\n"
     ]
    }
   ],
   "source": [
    "df_q14_only.info()\n",
    "#need to delete duplicate variables"
   ]
  },
  {
   "cell_type": "code",
   "execution_count": 194,
   "id": "caecddc4",
   "metadata": {},
   "outputs": [
    {
     "name": "stdout",
     "output_type": "stream",
     "text": [
      "<class 'pandas.core.frame.DataFrame'>\n",
      "Int64Index: 112 entries, 6 to 194\n",
      "Data columns (total 17 columns):\n",
      " #   Column        Non-Null Count  Dtype  \n",
      "---  ------        --------------  -----  \n",
      " 0   Q1 years      110 non-null    float64\n",
      " 1   Q2 years      108 non-null    float64\n",
      " 2   Q3            111 non-null    object \n",
      " 3   Q4            111 non-null    float64\n",
      " 4   Q5            70 non-null     object \n",
      " 5   Q6            112 non-null    float64\n",
      " 6   Q7            36 non-null     object \n",
      " 7   Q8            91 non-null     object \n",
      " 8   Q9            70 non-null     object \n",
      " 9   Q10           99 non-null     object \n",
      " 10  Q11           99 non-null     object \n",
      " 11  Q12           112 non-null    float64\n",
      " 12  Q13           16 non-null     object \n",
      " 13  Q14           112 non-null    object \n",
      " 14  Q15           84 non-null     object \n",
      " 15  Q16 rank_cat  111 non-null    float64\n",
      " 16  score         112 non-null    float64\n",
      "dtypes: float64(7), object(10)\n",
      "memory usage: 15.8+ KB\n"
     ]
    }
   ],
   "source": [
    "df_q14_only = df_q14_only.drop('Q14_y', axis=1)\n",
    "df_q14_only.rename(columns={\"Q14_x\": \"Q14\"}, inplace=True)\n",
    "\n",
    "df_q14_only.info()"
   ]
  },
  {
   "cell_type": "code",
   "execution_count": 195,
   "id": "85dc7d6e",
   "metadata": {},
   "outputs": [
    {
     "data": {
      "text/plain": [
       "1.0    68\n",
       "2.0    23\n",
       "3.0     7\n",
       "4.0     7\n",
       "5.0     5\n",
       "6.0     1\n",
       "Name: Q16 rank_cat, dtype: int64"
      ]
     },
     "execution_count": 195,
     "metadata": {},
     "output_type": "execute_result"
    }
   ],
   "source": [
    "df_q14_only[\"Q16 rank_cat\"].value_counts()"
   ]
  },
  {
   "cell_type": "code",
   "execution_count": 12,
   "id": "d36cab4f",
   "metadata": {},
   "outputs": [],
   "source": [
    "#Df_q14_only.groupby([\"Q16 rank_cat\"]).score.mean()\n",
    "\n",
    "#E1-E3: junior (1)  \n",
    "#E4-E5: NCO (2)  \n",
    "#E6+: SNCO (3)  \n",
    "#Officer: O1+ (4)  \n",
    "#Spouse/Dep: (5)  \n",
    "#Other: (6)"
   ]
  },
  {
   "cell_type": "markdown",
   "id": "e2c60fe3",
   "metadata": {},
   "source": [
    "Q12: Do you think there are problems here related to child abuse or domestic abuse?  <b>Coded as Yes (1), No (0)</b>  \n"
   ]
  },
  {
   "cell_type": "code",
   "execution_count": 197,
   "id": "19ecf632",
   "metadata": {
    "scrolled": true
   },
   "outputs": [
    {
     "data": {
      "text/plain": [
       "Q12\n",
       "0.0    0.022174\n",
       "1.0   -0.099165\n",
       "Name: score, dtype: float64"
      ]
     },
     "execution_count": 197,
     "metadata": {},
     "output_type": "execute_result"
    }
   ],
   "source": [
    "df_q14_only.groupby([\"Q12\"]).score.mean()"
   ]
  },
  {
   "cell_type": "markdown",
   "id": "30a193d5",
   "metadata": {},
   "source": [
    "Q6: Do you have awareness of the prevention services offered by the [CLINIC]?  <b>Coded as Yes (1), No (0)</b>    "
   ]
  },
  {
   "cell_type": "code",
   "execution_count": 198,
   "id": "342842fa",
   "metadata": {
    "scrolled": true
   },
   "outputs": [
    {
     "data": {
      "text/plain": [
       "Q6\n",
       "0.0   -0.025415\n",
       "1.0    0.059974\n",
       "Name: score, dtype: float64"
      ]
     },
     "execution_count": 198,
     "metadata": {},
     "output_type": "execute_result"
    }
   ],
   "source": [
    "df_q14_only.groupby([\"Q6\"]).score.mean()"
   ]
  },
  {
   "cell_type": "markdown",
   "id": "ab9ab20d",
   "metadata": {},
   "source": [
    "Q4: Do you have awareness of the [CLINIC] and what it does?  <b>Coded as Yes (1), No (0)</b>"
   ]
  },
  {
   "cell_type": "code",
   "execution_count": 199,
   "id": "185db1b3",
   "metadata": {
    "scrolled": true
   },
   "outputs": [
    {
     "data": {
      "text/plain": [
       "Q4\n",
       "0.0   -0.046252\n",
       "1.0    0.017049\n",
       "Name: score, dtype: float64"
      ]
     },
     "execution_count": 199,
     "metadata": {},
     "output_type": "execute_result"
    }
   ],
   "source": [
    "df_q14_only.groupby([\"Q4\"]).score.mean()"
   ]
  },
  {
   "cell_type": "markdown",
   "id": "549c2152",
   "metadata": {},
   "source": [
    "Q2: How long have you been in the [DOD] (or connected to the [DOD], if civilian)?  <b>Coded as YEARS</b>  "
   ]
  },
  {
   "cell_type": "code",
   "execution_count": 200,
   "id": "f0517209",
   "metadata": {
    "scrolled": true
   },
   "outputs": [
    {
     "data": {
      "image/png": "[encoded data removed]",
      "text/plain": [
       "<Figure size 842.4x595.44 with 1 Axes>"
      ]
     },
     "metadata": {},
     "output_type": "display_data"
    }
   ],
   "source": [
    "import numpy as np\n",
    "import matplotlib.pyplot as plt\n",
    "\n",
    "plt.scatter(df_q14_only['Q2 years'], df_q14_only['score'], alpha=0.5)\n",
    "plt.show()"
   ]
  },
  {
   "cell_type": "markdown",
   "id": "b566caec",
   "metadata": {},
   "source": [
    "Q1: How long have you been on [LOCATION]?  <b>Coded as YEARS</b>  "
   ]
  },
  {
   "cell_type": "code",
   "execution_count": 201,
   "id": "d3dd51bd",
   "metadata": {
    "scrolled": true
   },
   "outputs": [
    {
     "data": {
      "image/png": "[encoded data removed]",
      "text/plain": [
       "<Figure size 842.4x595.44 with 1 Axes>"
      ]
     },
     "metadata": {},
     "output_type": "display_data"
    }
   ],
   "source": [
    "import numpy as np\n",
    "import matplotlib.pyplot as plt\n",
    "\n",
    "plt.scatter(df_q14_only['Q1 years'], df_q14_only['score'], alpha=0.5)\n",
    "plt.show()"
   ]
  },
  {
   "cell_type": "markdown",
   "id": "b15c94bf",
   "metadata": {},
   "source": [
    "# 4.4 Q10\n",
    "Q10: What is your impression of the relationships [DOD] have with their children here in [LOCATION]?  <b>Sentiment analysis</b>  \n"
   ]
  },
  {
   "cell_type": "code",
   "execution_count": 13,
   "id": "8391a94a",
   "metadata": {},
   "outputs": [],
   "source": [
    "#df['Q10']"
   ]
  },
  {
   "cell_type": "code",
   "execution_count": 14,
   "id": "38fe210f",
   "metadata": {},
   "outputs": [],
   "source": [
    "#q10 = df['Q10'].dropna(axis=0)\n",
    "#q10"
   ]
  },
  {
   "cell_type": "code",
   "execution_count": 204,
   "id": "ce6a1967",
   "metadata": {},
   "outputs": [
    {
     "data": {
      "text/plain": [
       "(109,)"
      ]
     },
     "execution_count": 204,
     "metadata": {},
     "output_type": "execute_result"
    }
   ],
   "source": [
    "q10.shape\n",
    "#109 is how many rows we should have"
   ]
  },
  {
   "cell_type": "code",
   "execution_count": 205,
   "id": "d0f8cfb6",
   "metadata": {},
   "outputs": [],
   "source": [
    "#converting it to a df now\n",
    "q10 = q10.to_frame()"
   ]
  },
  {
   "cell_type": "code",
   "execution_count": 206,
   "id": "327eb9a7",
   "metadata": {},
   "outputs": [
    {
     "name": "stdout",
     "output_type": "stream",
     "text": [
      "<class 'pandas.core.frame.DataFrame'>\n",
      "Int64Index: 109 entries, 6 to 195\n",
      "Data columns (total 1 columns):\n",
      " #   Column  Non-Null Count  Dtype \n",
      "---  ------  --------------  ----- \n",
      " 0   Q10     109 non-null    object\n",
      "dtypes: object(1)\n",
      "memory usage: 1.7+ KB\n"
     ]
    }
   ],
   "source": [
    "#sanity check\n",
    "q10.info()"
   ]
  },
  {
   "cell_type": "code",
   "execution_count": 207,
   "id": "102c54d9",
   "metadata": {},
   "outputs": [
    {
     "data": {
      "text/html": [
       "<div>\n",
       "<style scoped>\n",
       "    .dataframe tbody tr th:only-of-type {\n",
       "        vertical-align: middle;\n",
       "    }\n",
       "\n",
       "    .dataframe tbody tr th {\n",
       "        vertical-align: top;\n",
       "    }\n",
       "\n",
       "    .dataframe thead th {\n",
       "        text-align: right;\n",
       "    }\n",
       "</style>\n",
       "<table border=\"1\" class=\"dataframe\">\n",
       "  <thead>\n",
       "    <tr style=\"text-align: right;\">\n",
       "      <th></th>\n",
       "      <th>Q10</th>\n",
       "      <th>score</th>\n",
       "    </tr>\n",
       "  </thead>\n",
       "  <tbody>\n",
       "    <tr>\n",
       "      <th>6</th>\n",
       "      <td>over all normal</td>\n",
       "      <td>0.0000</td>\n",
       "    </tr>\n",
       "    <tr>\n",
       "      <th>7</th>\n",
       "      <td>involved with sports family time on the weekends</td>\n",
       "      <td>0.0000</td>\n",
       "    </tr>\n",
       "    <tr>\n",
       "      <th>8</th>\n",
       "      <td>i do not know a lot of fathers here but it seems pretty hands off with mothers handling most of the care</td>\n",
       "      <td>0.8749</td>\n",
       "    </tr>\n",
       "    <tr>\n",
       "      <th>9</th>\n",
       "      <td>i do not have children or many friends with kids so it is hard to say</td>\n",
       "      <td>0.3477</td>\n",
       "    </tr>\n",
       "    <tr>\n",
       "      <th>13</th>\n",
       "      <td>do not know any</td>\n",
       "      <td>0.0000</td>\n",
       "    </tr>\n",
       "  </tbody>\n",
       "</table>\n",
       "</div>"
      ],
      "text/plain": [
       "                                                                                                          Q10  \\\n",
       "6                                                                                             over all normal   \n",
       "7                                                            involved with sports family time on the weekends   \n",
       "8   i do not know a lot of fathers here but it seems pretty hands off with mothers handling most of the care    \n",
       "9                                       i do not have children or many friends with kids so it is hard to say   \n",
       "13                                                                                            do not know any   \n",
       "\n",
       "     score  \n",
       "6   0.0000  \n",
       "7   0.0000  \n",
       "8   0.8749  \n",
       "9   0.3477  \n",
       "13  0.0000  "
      ]
     },
     "execution_count": 207,
     "metadata": {},
     "output_type": "execute_result"
    }
   ],
   "source": [
    "#code taken from nlp exercise 7 Metis\n",
    "analyzer = SentimentIntensityAnalyzer()\n",
    "q10['score'] = q10['Q10'].map(analyzer.polarity_scores).map(lambda x: x.get('compound'))\n",
    "q10.head()\n",
    "#The compound score is the sum of positive, negative & neutral scores which is \n",
    "#then normalized between -1(most extreme negative) and +1 (most extreme positive). \n",
    "#The more Compound score closer to +1, the higher the positivity of the text..\n"
   ]
  },
  {
   "cell_type": "code",
   "execution_count": 208,
   "id": "936751b5",
   "metadata": {},
   "outputs": [
    {
     "name": "stdout",
     "output_type": "stream",
     "text": [
      "        Q10   score\n",
      "74  abusive -0.6369\n"
     ]
    }
   ],
   "source": [
    "#lowest score\n",
    "#let's be sure to display the entire response for q10\n",
    "pd.set_option('display.max_colwidth', None)\n",
    "print(q10[q10.score == q10.score.min()])"
   ]
  },
  {
   "cell_type": "code",
   "execution_count": 209,
   "id": "303caf4b",
   "metadata": {},
   "outputs": [
    {
     "name": "stdout",
     "output_type": "stream",
     "text": [
      "                                                                        Q10  \\\n",
      "48  good most parents in my neighborhood appear to be loving caring parents   \n",
      "\n",
      "    score  \n",
      "48  0.875  \n"
     ]
    }
   ],
   "source": [
    "#highest score\n",
    "print(q10[q10.score == q10.score.max()])"
   ]
  },
  {
   "cell_type": "code",
   "execution_count": 210,
   "id": "a34a0cfb",
   "metadata": {},
   "outputs": [
    {
     "data": {
      "text/plain": [
       "0.24791192660550473"
      ]
     },
     "execution_count": 210,
     "metadata": {},
     "output_type": "execute_result"
    }
   ],
   "source": [
    "#what is the average sentiment across the 109 responses?\n",
    "q10.score.mean()"
   ]
  },
  {
   "cell_type": "markdown",
   "id": "1720ae72",
   "metadata": {},
   "source": [
    "Let's merge back in Q1, Q2, Q4, Q6, Q12, Q16 to see differences.... \n",
    "\n"
   ]
  },
  {
   "cell_type": "code",
   "execution_count": 15,
   "id": "aa686fc8",
   "metadata": {},
   "outputs": [],
   "source": [
    "#https://www.statology.org/pandas-merge-on-index/\n",
    "#df_q10_only = pd.merge(df, q10, left_index=True, right_index=True)\n",
    "#df_q10_only.head()"
   ]
  },
  {
   "cell_type": "code",
   "execution_count": 212,
   "id": "3be4fdfc",
   "metadata": {},
   "outputs": [
    {
     "name": "stdout",
     "output_type": "stream",
     "text": [
      "<class 'pandas.core.frame.DataFrame'>\n",
      "Int64Index: 109 entries, 6 to 195\n",
      "Data columns (total 18 columns):\n",
      " #   Column        Non-Null Count  Dtype  \n",
      "---  ------        --------------  -----  \n",
      " 0   Q1 years      108 non-null    float64\n",
      " 1   Q2 years      107 non-null    float64\n",
      " 2   Q3            107 non-null    object \n",
      " 3   Q4            108 non-null    float64\n",
      " 4   Q5            65 non-null     object \n",
      " 5   Q6            109 non-null    float64\n",
      " 6   Q7            36 non-null     object \n",
      " 7   Q8            94 non-null     object \n",
      " 8   Q9            72 non-null     object \n",
      " 9   Q10_x         109 non-null    object \n",
      " 10  Q11           108 non-null    object \n",
      " 11  Q12           109 non-null    float64\n",
      " 12  Q13           16 non-null     object \n",
      " 13  Q14           99 non-null     object \n",
      " 14  Q15           78 non-null     object \n",
      " 15  Q16 rank_cat  108 non-null    float64\n",
      " 16  Q10_y         109 non-null    object \n",
      " 17  score         109 non-null    float64\n",
      "dtypes: float64(7), object(11)\n",
      "memory usage: 16.2+ KB\n"
     ]
    }
   ],
   "source": [
    "df_q10_only.info()\n",
    "#need to delete duplicate variables"
   ]
  },
  {
   "cell_type": "code",
   "execution_count": 213,
   "id": "3a95a204",
   "metadata": {},
   "outputs": [
    {
     "name": "stdout",
     "output_type": "stream",
     "text": [
      "<class 'pandas.core.frame.DataFrame'>\n",
      "Int64Index: 109 entries, 6 to 195\n",
      "Data columns (total 17 columns):\n",
      " #   Column        Non-Null Count  Dtype  \n",
      "---  ------        --------------  -----  \n",
      " 0   Q1 years      108 non-null    float64\n",
      " 1   Q2 years      107 non-null    float64\n",
      " 2   Q3            107 non-null    object \n",
      " 3   Q4            108 non-null    float64\n",
      " 4   Q5            65 non-null     object \n",
      " 5   Q6            109 non-null    float64\n",
      " 6   Q7            36 non-null     object \n",
      " 7   Q8            94 non-null     object \n",
      " 8   Q9            72 non-null     object \n",
      " 9   Q10           109 non-null    object \n",
      " 10  Q11           108 non-null    object \n",
      " 11  Q12           109 non-null    float64\n",
      " 12  Q13           16 non-null     object \n",
      " 13  Q14           99 non-null     object \n",
      " 14  Q15           78 non-null     object \n",
      " 15  Q16 rank_cat  108 non-null    float64\n",
      " 16  score         109 non-null    float64\n",
      "dtypes: float64(7), object(10)\n",
      "memory usage: 15.3+ KB\n"
     ]
    }
   ],
   "source": [
    "df_q10_only = df_q10_only.drop('Q10_y', axis=1)\n",
    "df_q10_only.rename(columns={\"Q10_x\": \"Q10\"}, inplace=True)\n",
    "\n",
    "df_q10_only.info()"
   ]
  },
  {
   "cell_type": "code",
   "execution_count": 17,
   "id": "3990a091",
   "metadata": {},
   "outputs": [],
   "source": [
    "#df_q10_only.groupby([\"Q16 rank_cat\"]).score.mean()\n",
    "\n",
    "#E1-E3: Junior (1)  \n",
    "#E4-E5: NCO (2)  \n",
    "#E6+: SNCO (3)  \n",
    "#Officer: O1+ (4)  \n",
    "#Spouse/Dep: (5)  \n",
    "#Other: (6)"
   ]
  },
  {
   "cell_type": "code",
   "execution_count": 215,
   "id": "1d32d465",
   "metadata": {
    "scrolled": true
   },
   "outputs": [
    {
     "data": {
      "text/plain": [
       "Q12\n",
       "0.0    0.245806\n",
       "1.0    0.256738\n",
       "Name: score, dtype: float64"
      ]
     },
     "execution_count": 215,
     "metadata": {},
     "output_type": "execute_result"
    }
   ],
   "source": [
    "df_q10_only.groupby([\"Q12\"]).score.mean()"
   ]
  },
  {
   "cell_type": "code",
   "execution_count": 216,
   "id": "c5cf0b10",
   "metadata": {
    "scrolled": true
   },
   "outputs": [
    {
     "data": {
      "text/plain": [
       "Q6\n",
       "0.0    0.194978\n",
       "1.0    0.359829\n",
       "Name: score, dtype: float64"
      ]
     },
     "execution_count": 216,
     "metadata": {},
     "output_type": "execute_result"
    }
   ],
   "source": [
    "df_q10_only.groupby([\"Q6\"]).score.mean()"
   ]
  },
  {
   "cell_type": "code",
   "execution_count": 217,
   "id": "bf8ae6fa",
   "metadata": {
    "scrolled": true
   },
   "outputs": [
    {
     "data": {
      "text/plain": [
       "Q4\n",
       "0.0    0.143717\n",
       "1.0    0.283062\n",
       "Name: score, dtype: float64"
      ]
     },
     "execution_count": 217,
     "metadata": {},
     "output_type": "execute_result"
    }
   ],
   "source": [
    "df_q10_only.groupby([\"Q4\"]).score.mean()"
   ]
  },
  {
   "cell_type": "code",
   "execution_count": 218,
   "id": "0350c749",
   "metadata": {},
   "outputs": [
    {
     "data": {
      "image/png": "[encoded data removed]",
      "text/plain": [
       "<Figure size 842.4x595.44 with 1 Axes>"
      ]
     },
     "metadata": {},
     "output_type": "display_data"
    }
   ],
   "source": [
    "import numpy as np\n",
    "import matplotlib.pyplot as plt\n",
    "\n",
    "plt.scatter(df_q10_only['Q2 years'], df_q10_only['score'], alpha=0.5)\n",
    "plt.show()"
   ]
  },
  {
   "cell_type": "code",
   "execution_count": 219,
   "id": "04a8d7be",
   "metadata": {
    "scrolled": true
   },
   "outputs": [
    {
     "data": {
      "image/png": "[encoded data removed]",
      "text/plain": [
       "<Figure size 842.4x595.44 with 1 Axes>"
      ]
     },
     "metadata": {},
     "output_type": "display_data"
    }
   ],
   "source": [
    "import numpy as np\n",
    "import matplotlib.pyplot as plt\n",
    "\n",
    "plt.scatter(df_q10_only['Q1 years'], df_q10_only['score'], alpha=0.5)\n",
    "plt.show()"
   ]
  },
  {
   "cell_type": "markdown",
   "id": "7398ae28",
   "metadata": {},
   "source": [
    "# 4.5 Q11\n",
    "Q11: What is your impression of the relationships [DOD] have with their significant others in [LOCATION]?  <b>Sentiment analysis</b>  \n"
   ]
  },
  {
   "cell_type": "code",
   "execution_count": 220,
   "id": "164a759a",
   "metadata": {},
   "outputs": [
    {
     "name": "stdout",
     "output_type": "stream",
     "text": [
      "<class 'pandas.core.frame.DataFrame'>\n",
      "Int64Index: 182 entries, 1 to 195\n",
      "Data columns (total 16 columns):\n",
      " #   Column        Non-Null Count  Dtype  \n",
      "---  ------        --------------  -----  \n",
      " 0   Q1 years      177 non-null    float64\n",
      " 1   Q2 years      176 non-null    float64\n",
      " 2   Q3            173 non-null    object \n",
      " 3   Q4            180 non-null    float64\n",
      " 4   Q5            79 non-null     object \n",
      " 5   Q6            155 non-null    float64\n",
      " 6   Q7            39 non-null     object \n",
      " 7   Q8            98 non-null     object \n",
      " 8   Q9            73 non-null     object \n",
      " 9   Q10           109 non-null    object \n",
      " 10  Q11           109 non-null    object \n",
      " 11  Q12           149 non-null    float64\n",
      " 12  Q13           17 non-null     object \n",
      " 13  Q14           112 non-null    object \n",
      " 14  Q15           86 non-null     object \n",
      " 15  Q16 rank_cat  152 non-null    float64\n",
      "dtypes: float64(6), object(10)\n",
      "memory usage: 28.2+ KB\n"
     ]
    }
   ],
   "source": [
    "df.info()"
   ]
  },
  {
   "cell_type": "code",
   "execution_count": 18,
   "id": "fda33907",
   "metadata": {},
   "outputs": [],
   "source": [
    "#q11 = df['Q11'].dropna(axis=0)\n",
    "#q11"
   ]
  },
  {
   "cell_type": "code",
   "execution_count": 222,
   "id": "f79ed3ab",
   "metadata": {},
   "outputs": [],
   "source": [
    "#converting it to a df now\n",
    "q11 = q11.to_frame()"
   ]
  },
  {
   "cell_type": "code",
   "execution_count": 223,
   "id": "2ba3f522",
   "metadata": {},
   "outputs": [
    {
     "name": "stdout",
     "output_type": "stream",
     "text": [
      "<class 'pandas.core.frame.DataFrame'>\n",
      "Int64Index: 109 entries, 6 to 195\n",
      "Data columns (total 1 columns):\n",
      " #   Column  Non-Null Count  Dtype \n",
      "---  ------  --------------  ----- \n",
      " 0   Q11     109 non-null    object\n",
      "dtypes: object(1)\n",
      "memory usage: 1.7+ KB\n"
     ]
    }
   ],
   "source": [
    "#sanity check\n",
    "q11.info()"
   ]
  },
  {
   "cell_type": "code",
   "execution_count": 19,
   "id": "0433dcb7",
   "metadata": {
    "scrolled": true
   },
   "outputs": [],
   "source": [
    "#code taken from nlp exercise 7 Metis\n",
    "#analyzer = SentimentIntensityAnalyzer()\n",
    "#q11['score'] = q11['Q11'].map(analyzer.polarity_scores).map(lambda x: x.get('compound'))\n",
    "#q11.head(50)\n",
    "#The compound score is the sum of positive, negative & neutral scores which is \n",
    "#then normalized between -1(most extreme negative) and +1 (most extreme positive). \n",
    "#The more Compound score closer to +1, the higher the positivity of the text..\n"
   ]
  },
  {
   "cell_type": "code",
   "execution_count": 20,
   "id": "56cabff5",
   "metadata": {},
   "outputs": [],
   "source": [
    "#lowest score\n",
    "#print(q11[q11.score == q11.score.min()])"
   ]
  },
  {
   "cell_type": "code",
   "execution_count": 21,
   "id": "7f63c781",
   "metadata": {},
   "outputs": [],
   "source": [
    "#highest score\n",
    "#print(q11[q11.score == q11.score.max()])"
   ]
  },
  {
   "cell_type": "code",
   "execution_count": 227,
   "id": "505509bf",
   "metadata": {},
   "outputs": [
    {
     "data": {
      "text/plain": [
       "0.17592660550458725"
      ]
     },
     "execution_count": 227,
     "metadata": {},
     "output_type": "execute_result"
    }
   ],
   "source": [
    "#what is the average sentiment across the 109 responses?\n",
    "q11.score.mean()\n",
    "#interesting that this score is lower than the average for Q10..."
   ]
  },
  {
   "cell_type": "markdown",
   "id": "79a04fe0",
   "metadata": {},
   "source": [
    "Let's merge back in Q1, Q2, Q4, Q6, Q12, Q16 to see differences.... \n"
   ]
  },
  {
   "cell_type": "code",
   "execution_count": 228,
   "id": "fab04355",
   "metadata": {},
   "outputs": [],
   "source": [
    "#https://www.statology.org/pandas-merge-on-index/\n",
    "df_q11_only = pd.merge(df, q11, left_index=True, right_index=True)"
   ]
  },
  {
   "cell_type": "code",
   "execution_count": 229,
   "id": "58404932",
   "metadata": {},
   "outputs": [
    {
     "name": "stdout",
     "output_type": "stream",
     "text": [
      "<class 'pandas.core.frame.DataFrame'>\n",
      "Int64Index: 109 entries, 6 to 195\n",
      "Data columns (total 18 columns):\n",
      " #   Column        Non-Null Count  Dtype  \n",
      "---  ------        --------------  -----  \n",
      " 0   Q1 years      108 non-null    float64\n",
      " 1   Q2 years      107 non-null    float64\n",
      " 2   Q3            107 non-null    object \n",
      " 3   Q4            108 non-null    float64\n",
      " 4   Q5            65 non-null     object \n",
      " 5   Q6            109 non-null    float64\n",
      " 6   Q7            37 non-null     object \n",
      " 7   Q8            94 non-null     object \n",
      " 8   Q9            73 non-null     object \n",
      " 9   Q10           108 non-null    object \n",
      " 10  Q11_x         109 non-null    object \n",
      " 11  Q12           109 non-null    float64\n",
      " 12  Q13           17 non-null     object \n",
      " 13  Q14           99 non-null     object \n",
      " 14  Q15           78 non-null     object \n",
      " 15  Q16 rank_cat  108 non-null    float64\n",
      " 16  Q11_y         109 non-null    object \n",
      " 17  score         109 non-null    float64\n",
      "dtypes: float64(7), object(11)\n",
      "memory usage: 16.2+ KB\n"
     ]
    }
   ],
   "source": [
    "df_q11_only.info()\n",
    "#need to delete duplicate variables"
   ]
  },
  {
   "cell_type": "code",
   "execution_count": 230,
   "id": "623ef745",
   "metadata": {},
   "outputs": [
    {
     "name": "stdout",
     "output_type": "stream",
     "text": [
      "<class 'pandas.core.frame.DataFrame'>\n",
      "Int64Index: 109 entries, 6 to 195\n",
      "Data columns (total 17 columns):\n",
      " #   Column        Non-Null Count  Dtype  \n",
      "---  ------        --------------  -----  \n",
      " 0   Q1 years      108 non-null    float64\n",
      " 1   Q2 years      107 non-null    float64\n",
      " 2   Q3            107 non-null    object \n",
      " 3   Q4            108 non-null    float64\n",
      " 4   Q5            65 non-null     object \n",
      " 5   Q6            109 non-null    float64\n",
      " 6   Q7            37 non-null     object \n",
      " 7   Q8            94 non-null     object \n",
      " 8   Q9            73 non-null     object \n",
      " 9   Q10           108 non-null    object \n",
      " 10  Q11           109 non-null    object \n",
      " 11  Q12           109 non-null    float64\n",
      " 12  Q13           17 non-null     object \n",
      " 13  Q14           99 non-null     object \n",
      " 14  Q15           78 non-null     object \n",
      " 15  Q16 rank_cat  108 non-null    float64\n",
      " 16  Q11_sore      109 non-null    float64\n",
      "dtypes: float64(7), object(10)\n",
      "memory usage: 15.3+ KB\n"
     ]
    }
   ],
   "source": [
    "df_q11_only = df_q11_only.drop('Q11_y', axis=1)\n",
    "df_q11_only.rename(columns={\"Q11_x\": \"Q11\"}, inplace=True)\n",
    "df_q11_only.rename(columns={\"score\": \"Q11_sore\"}, inplace=True)\n",
    "\n",
    "df_q11_only.info()"
   ]
  },
  {
   "cell_type": "code",
   "execution_count": 231,
   "id": "88d73e20",
   "metadata": {},
   "outputs": [
    {
     "data": {
      "text/plain": [
       "Q16 rank_cat\n",
       "1.0    0.229872\n",
       "2.0    0.042809\n",
       "3.0    0.178780\n",
       "4.0    0.235157\n",
       "5.0    0.000300\n",
       "6.0    0.000000\n",
       "Name: Q11_sore, dtype: float64"
      ]
     },
     "execution_count": 231,
     "metadata": {},
     "output_type": "execute_result"
    }
   ],
   "source": [
    "df_q11_only.groupby([\"Q16 rank_cat\"]).Q11_sore.mean()\n",
    "\n",
    "#E1-E3: Junior (1)  \n",
    "#E4-E5: NCO (2)  \n",
    "#E6+: SNCO (3)  \n",
    "#Officer: O1+ (4)  \n",
    "#Spouse/Dep: (5)  \n",
    "#Other: (6)"
   ]
  },
  {
   "cell_type": "markdown",
   "id": "49bec30f",
   "metadata": {},
   "source": [
    "Q12: Do you think there are problems here related to child abuse or domestic abuse?  <b>Coded as Yes (1), No (0)</b>  \n"
   ]
  },
  {
   "cell_type": "code",
   "execution_count": 232,
   "id": "0d6084a7",
   "metadata": {
    "scrolled": true
   },
   "outputs": [
    {
     "data": {
      "text/plain": [
       "Q12\n",
       "0.0    0.222683\n",
       "1.0   -0.008973\n",
       "Name: Q11_sore, dtype: float64"
      ]
     },
     "execution_count": 232,
     "metadata": {},
     "output_type": "execute_result"
    }
   ],
   "source": [
    "df_q11_only.groupby([\"Q12\"]).Q11_sore.mean()"
   ]
  },
  {
   "cell_type": "markdown",
   "id": "ad796044",
   "metadata": {},
   "source": [
    "Q6: Do you have awareness of the prevention services offered by the [CLINIC]?  <b>Coded as Yes (1), No (0)</b>    "
   ]
  },
  {
   "cell_type": "code",
   "execution_count": 233,
   "id": "9da84a42",
   "metadata": {
    "scrolled": true
   },
   "outputs": [
    {
     "data": {
      "text/plain": [
       "Q6\n",
       "0.0    0.164656\n",
       "1.0    0.198781\n",
       "Name: Q11_sore, dtype: float64"
      ]
     },
     "execution_count": 233,
     "metadata": {},
     "output_type": "execute_result"
    }
   ],
   "source": [
    "df_q11_only.groupby([\"Q6\"]).Q11_sore.mean()"
   ]
  },
  {
   "cell_type": "markdown",
   "id": "d3061094",
   "metadata": {},
   "source": [
    "Q4: Do you have awareness of the [CLINIC] and what it does?  <b>Coded as Yes (1), No (0)</b>"
   ]
  },
  {
   "cell_type": "code",
   "execution_count": 234,
   "id": "fcdff0b0",
   "metadata": {
    "scrolled": true
   },
   "outputs": [
    {
     "data": {
      "text/plain": [
       "Q4\n",
       "0.0    0.072907\n",
       "1.0    0.221892\n",
       "Name: Q11_sore, dtype: float64"
      ]
     },
     "execution_count": 234,
     "metadata": {},
     "output_type": "execute_result"
    }
   ],
   "source": [
    "df_q11_only.groupby([\"Q4\"]).Q11_sore.mean()"
   ]
  },
  {
   "cell_type": "markdown",
   "id": "5ad7980a",
   "metadata": {},
   "source": [
    "Q2: How long have you been in the [DOD] (or connected to the [DOD], if civilian)?  <b>Coded as YEARS</b>  "
   ]
  },
  {
   "cell_type": "code",
   "execution_count": 235,
   "id": "6eb2f1a7",
   "metadata": {
    "scrolled": false
   },
   "outputs": [
    {
     "data": {
      "image/png": "[encoded data removed]",
      "text/plain": [
       "<Figure size 842.4x595.44 with 1 Axes>"
      ]
     },
     "metadata": {},
     "output_type": "display_data"
    }
   ],
   "source": [
    "import numpy as np\n",
    "import matplotlib.pyplot as plt\n",
    "\n",
    "plt.scatter(df_q11_only['Q2 years'], df_q11_only['Q11_sore'], alpha=0.5)\n",
    "plt.show()"
   ]
  },
  {
   "cell_type": "markdown",
   "id": "a4b97a3e",
   "metadata": {},
   "source": [
    "Q1: How long have you been on [LOCATION]?  <b>Coded as YEARS</b>  "
   ]
  },
  {
   "cell_type": "code",
   "execution_count": 236,
   "id": "912da6b1",
   "metadata": {
    "scrolled": true
   },
   "outputs": [
    {
     "data": {
      "image/png": "[encoded data removed]",
      "text/plain": [
       "<Figure size 842.4x595.44 with 1 Axes>"
      ]
     },
     "metadata": {},
     "output_type": "display_data"
    }
   ],
   "source": [
    "import numpy as np\n",
    "import matplotlib.pyplot as plt\n",
    "\n",
    "plt.scatter(df_q11_only['Q1 years'], df_q11_only['Q11_sore'], alpha=0.5)\n",
    "plt.show()"
   ]
  },
  {
   "cell_type": "markdown",
   "id": "bb5ca246",
   "metadata": {},
   "source": [
    "# 4.6 Q10 x Q11 by Q12 hue\n",
    "Q10: What is your impression of the relationships [DOD] have with their children here in [LOCATION]?  \n",
    "Q11: What is your impression of the relationships [DOD] have with their significant others in [LOCATION]?  \n",
    "Q12: Do you think there are problems here related to child abuse or domestic abuse? YES or NO "
   ]
  },
  {
   "cell_type": "code",
   "execution_count": 237,
   "id": "bccb5646",
   "metadata": {},
   "outputs": [],
   "source": [
    "q10_q11_senti = df['Q11'].dropna(axis=0)"
   ]
  },
  {
   "cell_type": "code",
   "execution_count": 238,
   "id": "9320fe55",
   "metadata": {},
   "outputs": [],
   "source": [
    "#converting it to a df now\n",
    "q10_q11_senti = q10_q11_senti.to_frame()"
   ]
  },
  {
   "cell_type": "code",
   "execution_count": 239,
   "id": "3b3f67fe",
   "metadata": {},
   "outputs": [
    {
     "name": "stdout",
     "output_type": "stream",
     "text": [
      "<class 'pandas.core.frame.DataFrame'>\n",
      "Int64Index: 109 entries, 6 to 195\n",
      "Data columns (total 1 columns):\n",
      " #   Column  Non-Null Count  Dtype \n",
      "---  ------  --------------  ----- \n",
      " 0   Q11     109 non-null    object\n",
      "dtypes: object(1)\n",
      "memory usage: 1.7+ KB\n"
     ]
    }
   ],
   "source": [
    "#sanity check\n",
    "q10_q11_senti.info()"
   ]
  },
  {
   "cell_type": "code",
   "execution_count": 22,
   "id": "7b63f537",
   "metadata": {
    "scrolled": true
   },
   "outputs": [],
   "source": [
    "#code taken from nlp exercise 7 Metis\n",
    "#analyzer = SentimentIntensityAnalyzer()\n",
    "#q10_q11_senti['Q11_score'] = q10_q11_senti['Q11'].map(analyzer.polarity_scores).map(lambda x: x.get('compound'))\n",
    "#q10_q11_senti.head()\n",
    "#The compound score is the sum of positive, negative & neutral scores which is \n",
    "#then normalized between -1(most extreme negative) and +1 (most extreme positive). \n",
    "#The more Compound score closer to +1, the higher the positivity of the text..\n"
   ]
  },
  {
   "cell_type": "code",
   "execution_count": 241,
   "id": "9d887a39",
   "metadata": {},
   "outputs": [],
   "source": [
    "#https://www.statology.org/pandas-merge-on-index/\n",
    "#need to merge back it all columns\n",
    "q10_q11_senti = pd.merge(df, q10_q11_senti, left_index=True, right_index=True)"
   ]
  },
  {
   "cell_type": "code",
   "execution_count": 242,
   "id": "170bd569",
   "metadata": {},
   "outputs": [
    {
     "name": "stdout",
     "output_type": "stream",
     "text": [
      "<class 'pandas.core.frame.DataFrame'>\n",
      "Int64Index: 109 entries, 6 to 195\n",
      "Data columns (total 18 columns):\n",
      " #   Column        Non-Null Count  Dtype  \n",
      "---  ------        --------------  -----  \n",
      " 0   Q1 years      108 non-null    float64\n",
      " 1   Q2 years      107 non-null    float64\n",
      " 2   Q3            107 non-null    object \n",
      " 3   Q4            108 non-null    float64\n",
      " 4   Q5            65 non-null     object \n",
      " 5   Q6            109 non-null    float64\n",
      " 6   Q7            37 non-null     object \n",
      " 7   Q8            94 non-null     object \n",
      " 8   Q9            73 non-null     object \n",
      " 9   Q10           108 non-null    object \n",
      " 10  Q11_x         109 non-null    object \n",
      " 11  Q12           109 non-null    float64\n",
      " 12  Q13           17 non-null     object \n",
      " 13  Q14           99 non-null     object \n",
      " 14  Q15           78 non-null     object \n",
      " 15  Q16 rank_cat  108 non-null    float64\n",
      " 16  Q11_y         109 non-null    object \n",
      " 17  Q11_score     109 non-null    float64\n",
      "dtypes: float64(7), object(11)\n",
      "memory usage: 16.2+ KB\n"
     ]
    }
   ],
   "source": [
    "q10_q11_senti.info()\n",
    "#need to delete duplicate variables"
   ]
  },
  {
   "cell_type": "code",
   "execution_count": 243,
   "id": "70b5e127",
   "metadata": {},
   "outputs": [
    {
     "name": "stdout",
     "output_type": "stream",
     "text": [
      "<class 'pandas.core.frame.DataFrame'>\n",
      "Int64Index: 109 entries, 6 to 195\n",
      "Data columns (total 17 columns):\n",
      " #   Column        Non-Null Count  Dtype  \n",
      "---  ------        --------------  -----  \n",
      " 0   Q1 years      108 non-null    float64\n",
      " 1   Q2 years      107 non-null    float64\n",
      " 2   Q3            107 non-null    object \n",
      " 3   Q4            108 non-null    float64\n",
      " 4   Q5            65 non-null     object \n",
      " 5   Q6            109 non-null    float64\n",
      " 6   Q7            37 non-null     object \n",
      " 7   Q8            94 non-null     object \n",
      " 8   Q9            73 non-null     object \n",
      " 9   Q10           108 non-null    object \n",
      " 10  Q11           109 non-null    object \n",
      " 11  Q12           109 non-null    float64\n",
      " 12  Q13           17 non-null     object \n",
      " 13  Q14           99 non-null     object \n",
      " 14  Q15           78 non-null     object \n",
      " 15  Q16 rank_cat  108 non-null    float64\n",
      " 16  Q11_score     109 non-null    float64\n",
      "dtypes: float64(7), object(10)\n",
      "memory usage: 15.3+ KB\n"
     ]
    }
   ],
   "source": [
    "q10_q11_senti = q10_q11_senti.drop('Q11_y', axis=1)\n",
    "q10_q11_senti.rename(columns={\"Q11_x\": \"Q11\"}, inplace=True)\n",
    "\n",
    "q10_q11_senti.info()"
   ]
  },
  {
   "cell_type": "code",
   "execution_count": 244,
   "id": "aa963bfd",
   "metadata": {},
   "outputs": [],
   "source": [
    "q10_q11_senti = q10_q11_senti.dropna(subset=['Q10'])"
   ]
  },
  {
   "cell_type": "code",
   "execution_count": 245,
   "id": "4b0dbe78",
   "metadata": {},
   "outputs": [
    {
     "name": "stdout",
     "output_type": "stream",
     "text": [
      "<class 'pandas.core.frame.DataFrame'>\n",
      "Int64Index: 108 entries, 6 to 195\n",
      "Data columns (total 17 columns):\n",
      " #   Column        Non-Null Count  Dtype  \n",
      "---  ------        --------------  -----  \n",
      " 0   Q1 years      107 non-null    float64\n",
      " 1   Q2 years      106 non-null    float64\n",
      " 2   Q3            106 non-null    object \n",
      " 3   Q4            107 non-null    float64\n",
      " 4   Q5            64 non-null     object \n",
      " 5   Q6            108 non-null    float64\n",
      " 6   Q7            36 non-null     object \n",
      " 7   Q8            93 non-null     object \n",
      " 8   Q9            72 non-null     object \n",
      " 9   Q10           108 non-null    object \n",
      " 10  Q11           108 non-null    object \n",
      " 11  Q12           108 non-null    float64\n",
      " 12  Q13           16 non-null     object \n",
      " 13  Q14           98 non-null     object \n",
      " 14  Q15           78 non-null     object \n",
      " 15  Q16 rank_cat  107 non-null    float64\n",
      " 16  Q11_score     108 non-null    float64\n",
      "dtypes: float64(7), object(10)\n",
      "memory usage: 15.2+ KB\n"
     ]
    }
   ],
   "source": [
    "q10_q11_senti.info()"
   ]
  },
  {
   "cell_type": "code",
   "execution_count": 246,
   "id": "0929868a",
   "metadata": {},
   "outputs": [],
   "source": [
    "analyzer = SentimentIntensityAnalyzer()\n",
    "q10_q11_senti['Q10_score'] = q10_q11_senti['Q10'].map(analyzer.polarity_scores).map(lambda x: x.get('compound'))"
   ]
  },
  {
   "cell_type": "code",
   "execution_count": 247,
   "id": "437933ac",
   "metadata": {},
   "outputs": [
    {
     "name": "stdout",
     "output_type": "stream",
     "text": [
      "<class 'pandas.core.frame.DataFrame'>\n",
      "Int64Index: 108 entries, 6 to 195\n",
      "Data columns (total 18 columns):\n",
      " #   Column        Non-Null Count  Dtype  \n",
      "---  ------        --------------  -----  \n",
      " 0   Q1 years      107 non-null    float64\n",
      " 1   Q2 years      106 non-null    float64\n",
      " 2   Q3            106 non-null    object \n",
      " 3   Q4            107 non-null    float64\n",
      " 4   Q5            64 non-null     object \n",
      " 5   Q6            108 non-null    float64\n",
      " 6   Q7            36 non-null     object \n",
      " 7   Q8            93 non-null     object \n",
      " 8   Q9            72 non-null     object \n",
      " 9   Q10           108 non-null    object \n",
      " 10  Q11           108 non-null    object \n",
      " 11  Q12           108 non-null    float64\n",
      " 12  Q13           16 non-null     object \n",
      " 13  Q14           98 non-null     object \n",
      " 14  Q15           78 non-null     object \n",
      " 15  Q16 rank_cat  107 non-null    float64\n",
      " 16  Q11_score     108 non-null    float64\n",
      " 17  Q10_score     108 non-null    float64\n",
      "dtypes: float64(8), object(10)\n",
      "memory usage: 16.0+ KB\n"
     ]
    }
   ],
   "source": [
    "q10_q11_senti.info()"
   ]
  },
  {
   "cell_type": "code",
   "execution_count": 23,
   "id": "d215fec7",
   "metadata": {},
   "outputs": [],
   "source": [
    "import seaborn as sns\n",
    "import matplotlib.pyplot as plt\n",
    "#sns.set(rc={'figure.figsize':(11.7,8.27)})\n",
    "#plot = sns.scatterplot(data=q10_q11_senti, x=q10_q11_senti[\"Q10_score\"], y=q10_q11_senti[\"Q11_score\"], \n",
    "                 #s=100,\n",
    "               #palette=['blue'])\n",
    "#plot.set_xlim(-1, 1)\n",
    "#plot.set_ylim(-1, 1)\n",
    "#plt.suptitle(\"Figure 5. Relationship between sentiment scores.\")\n",
    "#plt.xlabel(\"Impression of the relationships \", fontsize=13)\n",
    "#plt.ylabel(\"Impression of the relationships \", fontsize=13)"
   ]
  },
  {
   "cell_type": "code",
   "execution_count": 249,
   "id": "54202f95",
   "metadata": {},
   "outputs": [
    {
     "name": "stdout",
     "output_type": "stream",
     "text": [
      "17\n"
     ]
    }
   ],
   "source": [
    "#q10_q11_senti['Q10_score'].describe()\n",
    "\n",
    "print(sum(q10_q11_senti['Q10_score'] < 0))\n"
   ]
  },
  {
   "cell_type": "code",
   "execution_count": 250,
   "id": "9d7a7a71",
   "metadata": {},
   "outputs": [
    {
     "name": "stdout",
     "output_type": "stream",
     "text": [
      "22\n"
     ]
    }
   ],
   "source": [
    "print(sum(q10_q11_senti['Q11_score'] < 0))\n"
   ]
  },
  {
   "cell_type": "markdown",
   "id": "ee782f33",
   "metadata": {},
   "source": [
    "# 4.7 Q14\n",
    "Q14: Can you tell me about your command's approach here related to family violence?  <b>Topic modeling and sentiment analysis</b>  "
   ]
  },
  {
   "cell_type": "code",
   "execution_count": 24,
   "id": "091c10ea",
   "metadata": {},
   "outputs": [],
   "source": [
    "#q14 = df['Q14'].dropna(axis=0)\n",
    "#q14"
   ]
  },
  {
   "cell_type": "code",
   "execution_count": 253,
   "id": "450e5410",
   "metadata": {},
   "outputs": [],
   "source": [
    "#converting it to a df now\n",
    "q14 = q14.to_frame()"
   ]
  },
  {
   "cell_type": "code",
   "execution_count": 254,
   "id": "1bf06a43",
   "metadata": {},
   "outputs": [
    {
     "name": "stdout",
     "output_type": "stream",
     "text": [
      "<class 'pandas.core.frame.DataFrame'>\n",
      "Int64Index: 112 entries, 6 to 194\n",
      "Data columns (total 1 columns):\n",
      " #   Column  Non-Null Count  Dtype \n",
      "---  ------  --------------  ----- \n",
      " 0   Q14     112 non-null    object\n",
      "dtypes: object(1)\n",
      "memory usage: 1.8+ KB\n"
     ]
    }
   ],
   "source": [
    "#sanity check\n",
    "q14.info()"
   ]
  },
  {
   "cell_type": "code",
   "execution_count": 25,
   "id": "b8a62f92",
   "metadata": {},
   "outputs": [],
   "source": [
    "#code taken from nlp exercise 7 Metis\n",
    "#analyzer = SentimentIntensityAnalyzer()\n",
    "#q14['score'] = q14['Q14'].map(analyzer.polarity_scores).map(lambda x: x.get('compound'))\n",
    "#q14.head()\n",
    "#The compound score is the sum of positive, negative & neutral scores which is \n",
    "#then normalized between -1(most extreme negative) and +1 (most extreme positive). \n",
    "#The more Compound score closer to +1, the higher the positivity of the text..\n"
   ]
  },
  {
   "cell_type": "code",
   "execution_count": 256,
   "id": "32abbb5c",
   "metadata": {},
   "outputs": [
    {
     "data": {
      "text/plain": [
       "count    112.000000\n",
       "mean       0.000506\n",
       "std        0.306424\n",
       "min       -0.848100\n",
       "25%       -0.241100\n",
       "50%        0.000000\n",
       "75%        0.000000\n",
       "max        0.867400\n",
       "Name: score, dtype: float64"
      ]
     },
     "execution_count": 256,
     "metadata": {},
     "output_type": "execute_result"
    }
   ],
   "source": [
    "q14.score.describe()"
   ]
  },
  {
   "cell_type": "code",
   "execution_count": 257,
   "id": "1a882bd9",
   "metadata": {},
   "outputs": [
    {
     "name": "stdout",
     "output_type": "stream",
     "text": [
      "32\n"
     ]
    }
   ],
   "source": [
    "print(sum(q14['score'] < 0))"
   ]
  },
  {
   "cell_type": "code",
   "execution_count": 26,
   "id": "c4948be0",
   "metadata": {},
   "outputs": [],
   "source": [
    "#print(q14[q14.score < 0 ])"
   ]
  },
  {
   "cell_type": "code",
   "execution_count": 259,
   "id": "295003a6",
   "metadata": {},
   "outputs": [
    {
     "name": "stdout",
     "output_type": "stream",
     "text": [
      "25\n"
     ]
    }
   ],
   "source": [
    "print(sum(q14['score'] > 0))"
   ]
  },
  {
   "cell_type": "code",
   "execution_count": 27,
   "id": "746c5b80",
   "metadata": {},
   "outputs": [],
   "source": [
    "#print(q14[q14.score > 0 ])"
   ]
  },
  {
   "cell_type": "code",
   "execution_count": 261,
   "id": "4b7998eb",
   "metadata": {},
   "outputs": [
    {
     "name": "stdout",
     "output_type": "stream",
     "text": [
      "55\n"
     ]
    }
   ],
   "source": [
    "print(sum(q14['score'] == 0))"
   ]
  },
  {
   "cell_type": "code",
   "execution_count": 28,
   "id": "942189fc",
   "metadata": {},
   "outputs": [],
   "source": [
    "#print(q14[q14.score == 0])"
   ]
  },
  {
   "cell_type": "code",
   "execution_count": 263,
   "id": "a40a239c",
   "metadata": {
    "scrolled": true
   },
   "outputs": [
    {
     "name": "stdout",
     "output_type": "stream",
     "text": [
      "                            Q14   score\n",
      "53  meet violence with violence -0.8481\n"
     ]
    }
   ],
   "source": [
    "#lowest score\n",
    "#print(q14[q14.score == q14.score.min()])"
   ]
  },
  {
   "cell_type": "code",
   "execution_count": 29,
   "id": "0e82030d",
   "metadata": {},
   "outputs": [],
   "source": [
    "#highest score\n",
    "#print(q14[q14.score == q14.score.max()])"
   ]
  },
  {
   "cell_type": "code",
   "execution_count": 265,
   "id": "d3b983e9",
   "metadata": {},
   "outputs": [
    {
     "data": {
      "text/plain": [
       "0.0005062500000000067"
      ]
     },
     "execution_count": 265,
     "metadata": {},
     "output_type": "execute_result"
    }
   ],
   "source": [
    "#what is the average sentiment across the 109 responses?\n",
    "q14.score.mean()\n",
    "#pretty neutral score..."
   ]
  },
  {
   "cell_type": "markdown",
   "id": "dde6872c",
   "metadata": {},
   "source": [
    "Let's merge back in Q1, Q2, Q4, Q6, Q12, Q16 to see differences....  \n",
    "\n"
   ]
  },
  {
   "cell_type": "code",
   "execution_count": 266,
   "id": "a40aa578",
   "metadata": {},
   "outputs": [],
   "source": [
    "#https://www.statology.org/pandas-merge-on-index/\n",
    "df_q14_only = pd.merge(df, q14, left_index=True, right_index=True)"
   ]
  },
  {
   "cell_type": "code",
   "execution_count": 267,
   "id": "ab0e9516",
   "metadata": {},
   "outputs": [
    {
     "name": "stdout",
     "output_type": "stream",
     "text": [
      "<class 'pandas.core.frame.DataFrame'>\n",
      "Int64Index: 112 entries, 6 to 194\n",
      "Data columns (total 18 columns):\n",
      " #   Column        Non-Null Count  Dtype  \n",
      "---  ------        --------------  -----  \n",
      " 0   Q1 years      110 non-null    float64\n",
      " 1   Q2 years      108 non-null    float64\n",
      " 2   Q3            111 non-null    object \n",
      " 3   Q4            111 non-null    float64\n",
      " 4   Q5            70 non-null     object \n",
      " 5   Q6            112 non-null    float64\n",
      " 6   Q7            36 non-null     object \n",
      " 7   Q8            91 non-null     object \n",
      " 8   Q9            70 non-null     object \n",
      " 9   Q10           99 non-null     object \n",
      " 10  Q11           99 non-null     object \n",
      " 11  Q12           112 non-null    float64\n",
      " 12  Q13           16 non-null     object \n",
      " 13  Q14_x         112 non-null    object \n",
      " 14  Q15           84 non-null     object \n",
      " 15  Q16 rank_cat  111 non-null    float64\n",
      " 16  Q14_y         112 non-null    object \n",
      " 17  score         112 non-null    float64\n",
      "dtypes: float64(7), object(11)\n",
      "memory usage: 16.6+ KB\n"
     ]
    }
   ],
   "source": [
    "df_q14_only.info()\n",
    "#need to delete duplicate variables"
   ]
  },
  {
   "cell_type": "code",
   "execution_count": 268,
   "id": "529c9c7b",
   "metadata": {},
   "outputs": [
    {
     "name": "stdout",
     "output_type": "stream",
     "text": [
      "<class 'pandas.core.frame.DataFrame'>\n",
      "Int64Index: 112 entries, 6 to 194\n",
      "Data columns (total 17 columns):\n",
      " #   Column        Non-Null Count  Dtype  \n",
      "---  ------        --------------  -----  \n",
      " 0   Q1 years      110 non-null    float64\n",
      " 1   Q2 years      108 non-null    float64\n",
      " 2   Q3            111 non-null    object \n",
      " 3   Q4            111 non-null    float64\n",
      " 4   Q5            70 non-null     object \n",
      " 5   Q6            112 non-null    float64\n",
      " 6   Q7            36 non-null     object \n",
      " 7   Q8            91 non-null     object \n",
      " 8   Q9            70 non-null     object \n",
      " 9   Q10           99 non-null     object \n",
      " 10  Q11           99 non-null     object \n",
      " 11  Q12           112 non-null    float64\n",
      " 12  Q13           16 non-null     object \n",
      " 13  Q14           112 non-null    object \n",
      " 14  Q15           84 non-null     object \n",
      " 15  Q16 rank_cat  111 non-null    float64\n",
      " 16  score         112 non-null    float64\n",
      "dtypes: float64(7), object(10)\n",
      "memory usage: 15.8+ KB\n"
     ]
    }
   ],
   "source": [
    "df_q14_only = df_q14_only.drop('Q14_y', axis=1)\n",
    "df_q14_only.rename(columns={\"Q14_x\": \"Q14\"}, inplace=True)\n",
    "\n",
    "df_q14_only.info()"
   ]
  },
  {
   "cell_type": "code",
   "execution_count": 269,
   "id": "b1451701",
   "metadata": {},
   "outputs": [
    {
     "data": {
      "text/plain": [
       "1.0    68\n",
       "2.0    23\n",
       "3.0     7\n",
       "4.0     7\n",
       "5.0     5\n",
       "6.0     1\n",
       "Name: Q16 rank_cat, dtype: int64"
      ]
     },
     "execution_count": 269,
     "metadata": {},
     "output_type": "execute_result"
    }
   ],
   "source": [
    "df_q14_only[\"Q16 rank_cat\"].value_counts()"
   ]
  },
  {
   "cell_type": "code",
   "execution_count": 270,
   "id": "6d661bc2",
   "metadata": {},
   "outputs": [
    {
     "data": {
      "text/plain": [
       "Q16 rank_cat\n",
       "1.0    0.006193\n",
       "2.0    0.027483\n",
       "3.0   -0.163486\n",
       "4.0    0.095371\n",
       "5.0    0.065680\n",
       "6.0   -0.848100\n",
       "Name: score, dtype: float64"
      ]
     },
     "execution_count": 270,
     "metadata": {},
     "output_type": "execute_result"
    }
   ],
   "source": [
    "df_q14_only.groupby([\"Q16 rank_cat\"]).score.mean()\n",
    "\n",
    "#E1-E3: Junior (1)  \n",
    "#E4-E5: NCO (2)  \n",
    "#E6+: SNCO (3)  \n",
    "#Officer: O1+ (4)  \n",
    "#Spouse/Dep: (5)  \n",
    "#Other: (6)"
   ]
  },
  {
   "cell_type": "markdown",
   "id": "b323c395",
   "metadata": {},
   "source": [
    "Q12: Do you think there are problems here related to child abuse or domestic abuse?  <b>Coded as Yes (1), No (0)</b>  \n"
   ]
  },
  {
   "cell_type": "code",
   "execution_count": 271,
   "id": "57bcc80b",
   "metadata": {
    "scrolled": true
   },
   "outputs": [
    {
     "data": {
      "text/plain": [
       "Q12\n",
       "0.0    0.022174\n",
       "1.0   -0.099165\n",
       "Name: score, dtype: float64"
      ]
     },
     "execution_count": 271,
     "metadata": {},
     "output_type": "execute_result"
    }
   ],
   "source": [
    "df_q14_only.groupby([\"Q12\"]).score.mean()"
   ]
  },
  {
   "cell_type": "markdown",
   "id": "54f34f59",
   "metadata": {},
   "source": [
    "Q6: Do you have awareness of the prevention services offered by the [CLINIC]?  <b>Coded as Yes (1), No (0)</b>    "
   ]
  },
  {
   "cell_type": "code",
   "execution_count": 272,
   "id": "2dd70bf1",
   "metadata": {
    "scrolled": true
   },
   "outputs": [
    {
     "data": {
      "text/plain": [
       "Q6\n",
       "0.0   -0.025415\n",
       "1.0    0.059974\n",
       "Name: score, dtype: float64"
      ]
     },
     "execution_count": 272,
     "metadata": {},
     "output_type": "execute_result"
    }
   ],
   "source": [
    "df_q14_only.groupby([\"Q6\"]).score.mean()"
   ]
  },
  {
   "cell_type": "markdown",
   "id": "06c5334f",
   "metadata": {},
   "source": [
    "Q4: Do you have awareness of the [CLINIC] and what it does?  <b>Coded as Yes (1), No (0)</b>"
   ]
  },
  {
   "cell_type": "code",
   "execution_count": 273,
   "id": "b06ac9f9",
   "metadata": {
    "scrolled": true
   },
   "outputs": [
    {
     "data": {
      "text/plain": [
       "Q4\n",
       "0.0   -0.046252\n",
       "1.0    0.017049\n",
       "Name: score, dtype: float64"
      ]
     },
     "execution_count": 273,
     "metadata": {},
     "output_type": "execute_result"
    }
   ],
   "source": [
    "df_q14_only.groupby([\"Q4\"]).score.mean()"
   ]
  },
  {
   "cell_type": "markdown",
   "id": "1ba1d315",
   "metadata": {},
   "source": [
    "Q2: How long have you been in the [DOD] (or connected to the [DOD], if civilian)?  <b>Coded as YEARS</b>  "
   ]
  },
  {
   "cell_type": "code",
   "execution_count": 274,
   "id": "dd0a6f9a",
   "metadata": {
    "scrolled": true
   },
   "outputs": [
    {
     "data": {
      "image/png": "[encoded data removed]",
      "text/plain": [
       "<Figure size 842.4x595.44 with 1 Axes>"
      ]
     },
     "metadata": {},
     "output_type": "display_data"
    }
   ],
   "source": [
    "import numpy as np\n",
    "import matplotlib.pyplot as plt\n",
    "\n",
    "plt.scatter(df_q14_only['Q2 years'], df_q14_only['score'], alpha=0.5)\n",
    "plt.show()"
   ]
  },
  {
   "cell_type": "markdown",
   "id": "c4ca227f",
   "metadata": {},
   "source": [
    "Q1: How long have you been on [LOCATION]?  <b>Coded as YEARS</b>  "
   ]
  },
  {
   "cell_type": "code",
   "execution_count": 275,
   "id": "a05e1574",
   "metadata": {
    "scrolled": true
   },
   "outputs": [
    {
     "data": {
      "image/png": "[encoded data removed]",
      "text/plain": [
       "<Figure size 842.4x595.44 with 1 Axes>"
      ]
     },
     "metadata": {},
     "output_type": "display_data"
    }
   ],
   "source": [
    "import numpy as np\n",
    "import matplotlib.pyplot as plt\n",
    "\n",
    "plt.scatter(df_q14_only['Q1 years'], df_q14_only['score'], alpha=0.5)\n",
    "plt.show()"
   ]
  },
  {
   "cell_type": "markdown",
   "id": "7b91a65a",
   "metadata": {},
   "source": [
    "# 4.8 Q15\n",
    "Q15: Is there anything else you'd like to comment on?  <b>Topic modeling and sentiment analysis</b>  "
   ]
  },
  {
   "cell_type": "code",
   "execution_count": 30,
   "id": "4ade04b9",
   "metadata": {},
   "outputs": [],
   "source": [
    "#q15 = df['Q15'].dropna(axis=0)\n",
    "#q15"
   ]
  },
  {
   "cell_type": "code",
   "execution_count": 277,
   "id": "c08f9208",
   "metadata": {},
   "outputs": [],
   "source": [
    "#converting it to a df now\n",
    "q15 = q15.to_frame()"
   ]
  },
  {
   "cell_type": "code",
   "execution_count": 278,
   "id": "1279a966",
   "metadata": {
    "scrolled": true
   },
   "outputs": [
    {
     "name": "stdout",
     "output_type": "stream",
     "text": [
      "<class 'pandas.core.frame.DataFrame'>\n",
      "Int64Index: 86 entries, 6 to 194\n",
      "Data columns (total 1 columns):\n",
      " #   Column  Non-Null Count  Dtype \n",
      "---  ------  --------------  ----- \n",
      " 0   Q15     86 non-null     object\n",
      "dtypes: object(1)\n",
      "memory usage: 1.3+ KB\n"
     ]
    }
   ],
   "source": [
    "#sanity check\n",
    "q15.info()"
   ]
  },
  {
   "cell_type": "code",
   "execution_count": 31,
   "id": "4ad07997",
   "metadata": {
    "scrolled": true
   },
   "outputs": [],
   "source": [
    "#code taken from nlp exercise 7 Metis\n",
    "#analyzer = SentimentIntensityAnalyzer()\n",
    "#q15['score'] = q15['Q15'].map(analyzer.polarity_scores).map(lambda x: x.get('compound'))\n",
    "#q15.head()\n",
    "#The compound score is the sum of positive, negative & neutral scores which is \n",
    "#then normalized between -1(most extreme negative) and +1 (most extreme positive). \n",
    "#The more Compound score closer to +1, the higher the positivity of the text..\n"
   ]
  },
  {
   "cell_type": "code",
   "execution_count": 32,
   "id": "3f6993ea",
   "metadata": {
    "scrolled": true
   },
   "outputs": [],
   "source": [
    "#lowest score\n",
    "#print(q15[q15.score == q15.score.min()])"
   ]
  },
  {
   "cell_type": "code",
   "execution_count": 33,
   "id": "49e05d99",
   "metadata": {
    "scrolled": true
   },
   "outputs": [],
   "source": [
    "#highest score\n",
    "#print(q15[q15.score == q15.score.max()])"
   ]
  },
  {
   "cell_type": "code",
   "execution_count": 282,
   "id": "f2db56cb",
   "metadata": {},
   "outputs": [
    {
     "data": {
      "text/plain": [
       "-0.21506860465116254"
      ]
     },
     "execution_count": 282,
     "metadata": {},
     "output_type": "execute_result"
    }
   ],
   "source": [
    "#what is the average sentiment across the 109 responses?\n",
    "q15.score.mean()\n",
    "#pretty neutral score..."
   ]
  },
  {
   "cell_type": "markdown",
   "id": "b96afa47",
   "metadata": {},
   "source": [
    "Let's merge back in Q1, Q2, Q4, Q6, Q12, Q16 to see differences.... "
   ]
  },
  {
   "cell_type": "code",
   "execution_count": 283,
   "id": "4aef4c28",
   "metadata": {},
   "outputs": [],
   "source": [
    "#https://www.statology.org/pandas-merge-on-index/\n",
    "df_q15_only = pd.merge(df, q15, left_index=True, right_index=True)"
   ]
  },
  {
   "cell_type": "code",
   "execution_count": 284,
   "id": "034df270",
   "metadata": {},
   "outputs": [
    {
     "name": "stdout",
     "output_type": "stream",
     "text": [
      "<class 'pandas.core.frame.DataFrame'>\n",
      "Int64Index: 86 entries, 6 to 194\n",
      "Data columns (total 18 columns):\n",
      " #   Column        Non-Null Count  Dtype  \n",
      "---  ------        --------------  -----  \n",
      " 0   Q1 years      84 non-null     float64\n",
      " 1   Q2 years      83 non-null     float64\n",
      " 2   Q3            84 non-null     object \n",
      " 3   Q4            85 non-null     float64\n",
      " 4   Q5            53 non-null     object \n",
      " 5   Q6            86 non-null     float64\n",
      " 6   Q7            28 non-null     object \n",
      " 7   Q8            71 non-null     object \n",
      " 8   Q9            65 non-null     object \n",
      " 9   Q10           78 non-null     object \n",
      " 10  Q11           78 non-null     object \n",
      " 11  Q12           86 non-null     float64\n",
      " 12  Q13           12 non-null     object \n",
      " 13  Q14           84 non-null     object \n",
      " 14  Q15_x         86 non-null     object \n",
      " 15  Q16 rank_cat  86 non-null     float64\n",
      " 16  Q15_y         86 non-null     object \n",
      " 17  score         86 non-null     float64\n",
      "dtypes: float64(7), object(11)\n",
      "memory usage: 12.8+ KB\n"
     ]
    }
   ],
   "source": [
    "df_q15_only.info()\n",
    "#need to delete duplicate variables"
   ]
  },
  {
   "cell_type": "code",
   "execution_count": 285,
   "id": "ea3b78ab",
   "metadata": {},
   "outputs": [
    {
     "name": "stdout",
     "output_type": "stream",
     "text": [
      "<class 'pandas.core.frame.DataFrame'>\n",
      "Int64Index: 86 entries, 6 to 194\n",
      "Data columns (total 17 columns):\n",
      " #   Column        Non-Null Count  Dtype  \n",
      "---  ------        --------------  -----  \n",
      " 0   Q1 years      84 non-null     float64\n",
      " 1   Q2 years      83 non-null     float64\n",
      " 2   Q3            84 non-null     object \n",
      " 3   Q4            85 non-null     float64\n",
      " 4   Q5            53 non-null     object \n",
      " 5   Q6            86 non-null     float64\n",
      " 6   Q7            28 non-null     object \n",
      " 7   Q8            71 non-null     object \n",
      " 8   Q9            65 non-null     object \n",
      " 9   Q10           78 non-null     object \n",
      " 10  Q11           78 non-null     object \n",
      " 11  Q12           86 non-null     float64\n",
      " 12  Q13           12 non-null     object \n",
      " 13  Q14           84 non-null     object \n",
      " 14  Q15           86 non-null     object \n",
      " 15  Q16 rank_cat  86 non-null     float64\n",
      " 16  score         86 non-null     float64\n",
      "dtypes: float64(7), object(10)\n",
      "memory usage: 12.1+ KB\n"
     ]
    }
   ],
   "source": [
    "df_q15_only = df_q15_only.drop('Q15_y', axis=1)\n",
    "df_q15_only.rename(columns={\"Q15_x\": \"Q15\"}, inplace=True)\n",
    "\n",
    "df_q15_only.info()"
   ]
  },
  {
   "cell_type": "code",
   "execution_count": 286,
   "id": "d28aa4cf",
   "metadata": {
    "scrolled": true
   },
   "outputs": [
    {
     "data": {
      "text/plain": [
       "1.0    56\n",
       "2.0    19\n",
       "4.0     5\n",
       "5.0     3\n",
       "3.0     2\n",
       "6.0     1\n",
       "Name: Q16 rank_cat, dtype: int64"
      ]
     },
     "execution_count": 286,
     "metadata": {},
     "output_type": "execute_result"
    }
   ],
   "source": [
    "df_q15_only[\"Q16 rank_cat\"].value_counts()"
   ]
  },
  {
   "cell_type": "code",
   "execution_count": 287,
   "id": "35a0e94f",
   "metadata": {},
   "outputs": [
    {
     "data": {
      "text/plain": [
       "Q16 rank_cat\n",
       "1.0   -0.255818\n",
       "2.0   -0.248184\n",
       "3.0   -0.466450\n",
       "4.0    0.066240\n",
       "5.0    0.416600\n",
       "6.0   -0.102700\n",
       "Name: score, dtype: float64"
      ]
     },
     "execution_count": 287,
     "metadata": {},
     "output_type": "execute_result"
    }
   ],
   "source": [
    "df_q15_only.groupby([\"Q16 rank_cat\"]).score.mean()\n",
    "\n",
    "#E1-E3: Junior (1)  \n",
    "#E4-E5: NCO (2)  \n",
    "#E6+: SNCO (3)  \n",
    "#Officer: O1+ (4)  \n",
    "#Spouse/Dep: (5)  \n",
    "#Other: (6)"
   ]
  },
  {
   "cell_type": "markdown",
   "id": "79309a60",
   "metadata": {},
   "source": [
    "Q12: Do you think there are problems here related to child abuse or domestic abuse?  <b>Coded as Yes (1), No (0)</b>  \n"
   ]
  },
  {
   "cell_type": "code",
   "execution_count": 288,
   "id": "489443f5",
   "metadata": {
    "scrolled": true
   },
   "outputs": [
    {
     "data": {
      "text/plain": [
       "Q12\n",
       "0.0   -0.237074\n",
       "1.0   -0.101900\n",
       "Name: score, dtype: float64"
      ]
     },
     "execution_count": 288,
     "metadata": {},
     "output_type": "execute_result"
    }
   ],
   "source": [
    "df_q15_only.groupby([\"Q12\"]).score.mean()"
   ]
  },
  {
   "cell_type": "markdown",
   "id": "87ff7a06",
   "metadata": {},
   "source": [
    "Q6: Do you have awareness of the prevention services offered by the [CLINIC]?  <b>Coded as Yes (1), No (0)</b>    "
   ]
  },
  {
   "cell_type": "code",
   "execution_count": 289,
   "id": "9b8c6692",
   "metadata": {
    "scrolled": true
   },
   "outputs": [
    {
     "data": {
      "text/plain": [
       "Q6\n",
       "0.0   -0.230051\n",
       "1.0   -0.182330\n",
       "Name: score, dtype: float64"
      ]
     },
     "execution_count": 289,
     "metadata": {},
     "output_type": "execute_result"
    }
   ],
   "source": [
    "df_q15_only.groupby([\"Q6\"]).score.mean()"
   ]
  },
  {
   "cell_type": "markdown",
   "id": "f6bf5431",
   "metadata": {},
   "source": [
    "Q4: Do you have awareness of the [CLINIC] and what it does?  <b>Coded as Yes (1), No (0)</b>"
   ]
  },
  {
   "cell_type": "code",
   "execution_count": 290,
   "id": "b4669e3e",
   "metadata": {
    "scrolled": true
   },
   "outputs": [
    {
     "data": {
      "text/plain": [
       "Q4\n",
       "0.0   -0.186120\n",
       "1.0   -0.223046\n",
       "Name: score, dtype: float64"
      ]
     },
     "execution_count": 290,
     "metadata": {},
     "output_type": "execute_result"
    }
   ],
   "source": [
    "df_q15_only.groupby([\"Q4\"]).score.mean()"
   ]
  },
  {
   "cell_type": "markdown",
   "id": "fc51da8d",
   "metadata": {},
   "source": [
    "Q2: How long have you been in the [DOD] (or connected to the [DOD], if civilian)?  <b>Coded as YEARS</b>  "
   ]
  },
  {
   "cell_type": "code",
   "execution_count": 291,
   "id": "102c98b7",
   "metadata": {
    "scrolled": true
   },
   "outputs": [
    {
     "data": {
      "image/png": "[encoded data removed]",
      "text/plain": [
       "<Figure size 842.4x595.44 with 1 Axes>"
      ]
     },
     "metadata": {},
     "output_type": "display_data"
    }
   ],
   "source": [
    "import numpy as np\n",
    "import matplotlib.pyplot as plt\n",
    "\n",
    "plt.scatter(df_q15_only['Q2 years'], df_q15_only['score'], alpha=0.5)\n",
    "plt.show()"
   ]
  },
  {
   "cell_type": "markdown",
   "id": "124b37d4",
   "metadata": {},
   "source": [
    "Q1: How long have you been on [LOCATION]?  <b>Coded as YEARS</b>  "
   ]
  },
  {
   "cell_type": "code",
   "execution_count": 292,
   "id": "93b43ef7",
   "metadata": {
    "scrolled": true
   },
   "outputs": [
    {
     "data": {
      "image/png": "[encoded data removed]",
      "text/plain": [
       "<Figure size 842.4x595.44 with 1 Axes>"
      ]
     },
     "metadata": {},
     "output_type": "display_data"
    }
   ],
   "source": [
    "import numpy as np\n",
    "import matplotlib.pyplot as plt\n",
    "\n",
    "plt.scatter(df_q15_only['Q1 years'], df_q15_only['score'], alpha=0.5)\n",
    "plt.show()"
   ]
  }
 ],
 "metadata": {
  "kernelspec": {
   "display_name": "Python 3 (unsupervised)",
   "language": "python",
   "name": "unsupervised"
  },
  "language_info": {
   "codemirror_mode": {
    "name": "ipython",
    "version": 3
   },
   "file_extension": ".py",
   "mimetype": "text/x-python",
   "name": "python",
   "nbconvert_exporter": "python",
   "pygments_lexer": "ipython3",
   "version": "3.9.7"
  }
 },
 "nbformat": 4,
 "nbformat_minor": 5
}
