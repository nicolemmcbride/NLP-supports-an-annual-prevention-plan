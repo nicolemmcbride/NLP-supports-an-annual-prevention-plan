{
 "cells": [
  {
   "cell_type": "markdown",
   "metadata": {},
   "source": [
    "# 1. Data Cleaning & Text Preprocessing"
   ]
  },
  {
   "cell_type": "markdown",
   "metadata": {},
   "source": [
    "### Loading in data"
   ]
  },
  {
   "cell_type": "code",
   "execution_count": 4,
   "metadata": {},
   "outputs": [],
   "source": [
    "import pandas as pd\n",
    "import matplotlib.pyplot as plt\n",
    "import seaborn as sns\n",
    "import numpy as np\n",
    "import re\n",
    "import pickle\n",
    "import contractions"
   ]
  },
  {
   "cell_type": "code",
   "execution_count": 1,
   "metadata": {},
   "outputs": [],
   "source": [
    "#read by default 1st sheet of an excel file\n",
    "#df = pd.read_excel(' Needs-Led Assessment Survey 2023 Raw Data.xlsx')\n",
    " \n",
    "#df.head()"
   ]
  },
  {
   "cell_type": "code",
   "execution_count": 2,
   "metadata": {},
   "outputs": [],
   "source": [
    "#renaming first row to be column names\n",
    "#df.columns=df.iloc[0]\n",
    "#df.head()"
   ]
  },
  {
   "cell_type": "code",
   "execution_count": 3,
   "metadata": {},
   "outputs": [],
   "source": [
    "#deleting first row because we don't need it now that the first row is the column names\n",
    "#df = df.drop([df.index[0]])\n",
    "#df.head()"
   ]
  },
  {
   "cell_type": "code",
   "execution_count": 5,
   "metadata": {},
   "outputs": [],
   "source": [
    "#we don't need Q1 - deleting consent question\n",
    "#df.drop(df.columns[[0]], axis=1, inplace=True)\n",
    "#df.head()"
   ]
  },
  {
   "cell_type": "markdown",
   "metadata": {},
   "source": [
    "## 1.1a Renaming Features --\n",
    "Q1: How long have you been on [LOCATION]?  \n",
    "Q2: How long have you been in the [DOD SERVICE COMPONENT] (or connected to the [DOD SERVICE COMPONENT], if civilian)?  \n",
    "Q3: What are your current responsibilities or what do you do in a typical day here?  \n",
    "Q4: Do you have awareness of the [CLINIC] and what it does?  \n",
    "Q5: If yes, what have you seen or heard?  \n",
    "Q6: Do you have awareness of the prevention services offered by the [CLINIC]?  \n",
    "Q7: If yes, what have you seen or heard?  \n",
    "Q8: In your opinion, what can [CLINIC] Prevention & Education Specialists do to support [SERVICE MEMBERS] and their families in [LOCATION]?  \n",
    "Q9: Do you have any other thoughts or suggestions?  \n",
    "Q10: What is your impression of the relationships [SERVICE MEMBERS] have with their children here in [LOCATION]?  \n",
    "Q11: What is your impression of the relationships [SERVICE MEMBERS] have with their significant others in [LOCATION]?  \n",
    "Q12: Do you think there are problems here related to child abuse or domestic abuse?  \n",
    "Q13: If yes, can you tell us about those problems?  \n",
    "Q14: Can you tell me about your command's approach here related to family violence?  \n",
    "Q15: Is there anything else you'd like to comment on?  \n",
    "Q16: What is your rank/grade?  \n",
    "Q17: If you selected other, please specific rank/grade:  "
   ]
  },
  {
   "cell_type": "code",
   "execution_count": 479,
   "metadata": {},
   "outputs": [],
   "source": [
    "#some columns have same name, need to fix\n",
    "# Changing columns name with index number\n",
    "df.columns.values[0] = \"Q1\"\n",
    "df.columns.values[1] = \"Q2\"\n",
    "df.columns.values[2] = \"Q3\"\n",
    "df.columns.values[3] = \"Q4\"\n",
    "df.columns.values[4] = \"Q5\"\n",
    "df.columns.values[5] = \"Q6\"\n",
    "df.columns.values[6] = \"Q7\"\n",
    "df.columns.values[7] = \"Q8\"\n",
    "df.columns.values[8] = \"Q9\"\n",
    "df.columns.values[9] = \"Q10\"\n",
    "df.columns.values[10] = \"Q11\"\n",
    "df.columns.values[11] = \"Q12\"\n",
    "df.columns.values[12] = \"Q13\"\n",
    "df.columns.values[13] = \"Q14\"\n",
    "df.columns.values[14] = \"Q15\"\n",
    "df.columns.values[15] = \"Q16\"\n",
    "df.columns.values[16] = \"Q17\""
   ]
  },
  {
   "cell_type": "code",
   "execution_count": 480,
   "metadata": {},
   "outputs": [
    {
     "name": "stdout",
     "output_type": "stream",
     "text": [
      "<class 'pandas.core.frame.DataFrame'>\n",
      "Int64Index: 195 entries, 1 to 195\n",
      "Data columns (total 17 columns):\n",
      " #   Column  Non-Null Count  Dtype \n",
      "---  ------  --------------  ----- \n",
      " 0   Q1      180 non-null    object\n",
      " 1   Q2      179 non-null    object\n",
      " 2   Q3      173 non-null    object\n",
      " 3   Q4      180 non-null    object\n",
      " 4   Q5      79 non-null     object\n",
      " 5   Q6      155 non-null    object\n",
      " 6   Q7      39 non-null     object\n",
      " 7   Q8      98 non-null     object\n",
      " 8   Q9      73 non-null     object\n",
      " 9   Q10     109 non-null    object\n",
      " 10  Q11     109 non-null    object\n",
      " 11  Q12     149 non-null    object\n",
      " 12  Q13     17 non-null     object\n",
      " 13  Q14     112 non-null    object\n",
      " 14  Q15     86 non-null     object\n",
      " 15  Q16     152 non-null    object\n",
      " 16  Q17     17 non-null     object\n",
      "dtypes: object(17)\n",
      "memory usage: 27.4+ KB\n"
     ]
    }
   ],
   "source": [
    "df.info()"
   ]
  },
  {
   "cell_type": "markdown",
   "metadata": {},
   "source": [
    "### Notes to self:\n",
    "1) All questions are open text/free response.  \n",
    "1a) This will require text analysis to process.  \n",
    "2) There are a lot of rows with no responses.  \n",
    "3) Let's take an quesiton by question approach for cleaning data before any analysis.  "
   ]
  },
  {
   "cell_type": "markdown",
   "metadata": {},
   "source": [
    "# 1.2 Data cleaning - column by column"
   ]
  },
  {
   "cell_type": "markdown",
   "metadata": {},
   "source": [
    "### <b> Q1  </b>  \n",
    "\n",
    "Changing all answers to be in <B>years</b> as unit of measurement."
   ]
  },
  {
   "cell_type": "code",
   "execution_count": 481,
   "metadata": {},
   "outputs": [
    {
     "data": {
      "text/plain": [
       "array([nan, '8 years', '1 year', '7', '7 months', 'One year and a half',\n",
       "       '1yr', '3 months', '2 years', '5 months', '3 months ', '15 months',\n",
       "       '3 years', '3ヶ月', '8 months', '2 months', '2 years 10 months',\n",
       "       '2 1/2 years', '11 months', '4 months', 'Almost 2 years',\n",
       "       '2.5 years', '1 year ', '10 months', '498 days', '6 years',\n",
       "       '22 months', '18 months', '3', '6 years ', '1 and a half years',\n",
       "       '18 Months', '3 weeks', '2 years ', '3 years ', '1 year 6 months ',\n",
       "       '1 year and 8 months', '4 years', '6 months', '3yrs',\n",
       "       '2 Years and 10 months ', '1 month', '9 Months ', 'About 3 weeks',\n",
       "       'Almost 4 weeks', '5 months ', '1 year and a half ', '1.5 years',\n",
       "       '8 months ', '1 month ', '13 months', '1 year 1/2 ',\n",
       "       '1 year and 6 months', 'Year and a half', '5months', '8months',\n",
       "       '7 months ', '1.5 year', '2 weeks', '2 weeks ', '5', '25 days',\n",
       "       '3 years 4 months', '2 months ', 'Three years', '1 week',\n",
       "       'Two Months', '4 weeks', 'About 5 months', '24 months ',\n",
       "       '2weeks 1day', '1 year 7 months', 'One month', '10 days',\n",
       "       'Since December 26 2020', '14 months', '1 year 3 months',\n",
       "       '11 months ', '3 Months ', '3  Years', 'Over one year', '3 YEARS',\n",
       "       '16 months', '2 Months', 'Six Months', 'Two years',\n",
       "       '4 months, deployment', '6-months', '25 months',\n",
       "       'A year and a half ', '3years', 'two months'], dtype=object)"
      ]
     },
     "execution_count": 481,
     "metadata": {},
     "output_type": "execute_result"
    }
   ],
   "source": [
    "#What are all the unique values for Q1?\n",
    "df['Q1'].unique()"
   ]
  },
  {
   "cell_type": "code",
   "execution_count": 482,
   "metadata": {},
   "outputs": [
    {
     "data": {
      "text/plain": [
       "array([nan, '8', '1', '.58', '1.5', '.25', '2', '.42', '1.42', '3', '.67',\n",
       "       '.17', '2.83', '2.5', '.92', '.33', '.83', '1.36', '6', '1.83',\n",
       "       '.06', '1.67', '4', '.5', '.08', '.75', '1.08', '.04', '3.33',\n",
       "       '1.58', '1.17', '1.25', '1.33', '2.08'], dtype=object)"
      ]
     },
     "execution_count": 482,
     "metadata": {},
     "output_type": "execute_result"
    }
   ],
   "source": [
    "#going to change Q1 to be in YEARS\n",
    "\n",
    "#Now we will remap the values of Q1 using years as unit measurement and then use the df.replace() function.\n",
    "\n",
    "#Define Dict with the key-value pair to remap.\n",
    "##simply using all the unique values in Q1 - have to do manually because no consistency in values\n",
    "dict1 = {\"8 years\" : '8', \"1 year\" : '1', \"7 months\": '.58', \"One year and a half\" : '1.5', \"1yr\": '1',\n",
    "          \"3 months\": '.25', '2 years': '2', '5 months': '.42', '3 months ': '.25', '15 months': '1.42',\n",
    "       '3 years': '3', '3ヶ月': '.25', '8 months': '.67', '2 months':'.17', '2 years 10 months': '2.83',\n",
    "       '2 1/2 years': '2.5', '11 months': '.92', '4 months': '.33', 'Almost 2 years': '2', '2.5 years': '2',\n",
    "      '1 year ': '1', '10 months': '.83', '498 days': '1.36', '6 years':'6', '22 months': '1.83', '18 months': '1.5',\n",
    "        '6 years ': '6', '1 and a half years': '1.5', '18 Months': '1.5', '3 weeks': '.06', '2 years ': '2',\n",
    "          '3 years ': '3', '1 year 6 months ': '1.5', '1 year and 8 months': '1.67', '4 years': '4', \n",
    "        '6 months': '.5', '3yrs': '3', '2 Years and 10 months ': '2.83', '1 month': '.08',\n",
    "       '9 Months ': '.75', 'About 3 weeks': '.06', 'Almost 4 weeks': '.08', '5 months ': '.42', \n",
    "       '1 year and a half ': '1.5', '1.5 years': '1.5', '8 months ': '.67', '1 month ': '.08',\n",
    "       '13 months': '1.08', '1 year 1/2 ': '1.5', '1 year and 6 months': '1.5',\n",
    "       'Year and a half': '1.5', '5months': '.42', '8months': '.67', '7 months ': '.58', '1.5 year': '1.5',\n",
    "       '2 weeks': '.04', '2 weeks ': '.04', '25 days': '.08', '3 years 4 months': '3.33',\n",
    "       '2 months ': '.17', 'Three years': '3', '1 week': '.04', 'Two Months': '.17', '4 weeks': '.08',\n",
    "        'About 5 months': '.42', '24 months ': '2', '2weeks 1day': '.04', '1 year 7 months': '1.58',\n",
    "       'One month': '.08', '10 days': '.04', 'Since December 26 2020': '2', '14 months': '1.17',\n",
    "       '1 year 3 months': '1.25', '11 months ': '.92', '3 Months ': '.25', '3  Years': '3',\n",
    "       'Over one year': '1', '3 YEARS': '3', '16 months': '1.33', '2 Months': '.17', 'Six Months': '.5',\n",
    "       'Two years': '2', '4 months, deployment': '.33', '6-months': '.5', '25 months': '2.08',\n",
    "       'A year and a half ': '1.5', '3years': '3', 'two months': '.17'}\n",
    "\n",
    "#creating copy of df\n",
    "df2=df\n",
    "\n",
    "#mapping dictionary onto variable we wish to change the values of\n",
    "df2[\"Q1\"]= df2[\"Q1\"].map(dict1) \n",
    "\n",
    "#renmaing column to include years as unit of measurement \n",
    "df2.rename(columns = {'Q1':'Q1 years'}, inplace = True)\n",
    "\n",
    "#all unique values should be in years now\n",
    "df2['Q1 years'].unique()\n",
    "#hooray it worked!"
   ]
  },
  {
   "cell_type": "code",
   "execution_count": 483,
   "metadata": {},
   "outputs": [],
   "source": [
    "#need to change Q1 to a numeric column\n",
    "df2[\"Q1 years\"] = pd.to_numeric(df2[\"Q1 years\"])"
   ]
  },
  {
   "cell_type": "code",
   "execution_count": 484,
   "metadata": {},
   "outputs": [
    {
     "data": {
      "text/plain": [
       "count    177.000000\n",
       "mean       1.149492\n",
       "std        1.188762\n",
       "min        0.040000\n",
       "25%        0.250000\n",
       "50%        0.920000\n",
       "75%        2.000000\n",
       "max        8.000000\n",
       "Name: Q1 years, dtype: float64"
      ]
     },
     "execution_count": 484,
     "metadata": {},
     "output_type": "execute_result"
    }
   ],
   "source": [
    "#Summary statistics for Q1\n",
    "df2[\"Q1 years\"].describe()"
   ]
  },
  {
   "cell_type": "code",
   "execution_count": 485,
   "metadata": {},
   "outputs": [
    {
     "data": {
      "text/plain": [
       "<AxesSubplot:ylabel='Frequency'>"
      ]
     },
     "execution_count": 485,
     "metadata": {},
     "output_type": "execute_result"
    },
    {
     "data": {
      "image/png": "[encoded data removed]",
      "text/plain": [
       "<Figure size 842.4x595.44 with 1 Axes>"
      ]
     },
     "metadata": {},
     "output_type": "display_data"
    }
   ],
   "source": [
    "df2['Q1 years'].plot(kind='hist')\n",
    "#https://www.nbshare.io/notebook/204214467/How-to-Plot-a-Histogram-in-Python/"
   ]
  },
  {
   "cell_type": "markdown",
   "metadata": {},
   "source": [
    "### <b> Q2  </b>  \n",
    "\n",
    "\n",
    "Changing all answers to be in <B>years</b> as unit of measurement."
   ]
  },
  {
   "cell_type": "code",
   "execution_count": 6,
   "metadata": {},
   "outputs": [],
   "source": [
    "#df2[\"Q2\"].unique()"
   ]
  },
  {
   "cell_type": "code",
   "execution_count": 487,
   "metadata": {},
   "outputs": [
    {
     "data": {
      "text/plain": [
       "array([nan, '16', '14', '6', '15', '999', '.75', '7', '1.5', '17', '23',\n",
       "       '4', '1', '2', '.5', '3', '0', '8', '25', '18.5', '18', '19', '10',\n",
       "       '13', '2.5', '9', '1.75', '3.5', '2.17', '2.33', '4.5', '1.33',\n",
       "       '3.83', '.83', '2.83', '1.17', '1.92', '1.08', '.92', '1.25', '11',\n",
       "       '3.92', '.67', '2.67', '2.25', '.25', '5', '.58', '28.5', '20',\n",
       "       '26', '3.75'], dtype=object)"
      ]
     },
     "execution_count": 487,
     "metadata": {},
     "output_type": "execute_result"
    }
   ],
   "source": [
    "#going to change Q2 to be in YEARS - same process as Q1\n",
    "#going to change question to YEARS IN SERVICE since many people responded that they are Navy personnel..\n",
    "\n",
    "#Define Dict with the key-value pair to remap.\n",
    "##simply using all the unique values in Q2 - have to do manually because no consistency in values\n",
    "#DICTIONARY MAPPING REDACTED\n",
    "#coding some as 999 because couldn't change to missing/NaN\n",
    "\n",
    "        \n",
    "df3=df2.replace({\"Q2\": dict2})\n",
    "\n",
    "#renmaing column to include years as unit of measurement + service \n",
    "df3.rename(columns = {'Q2'\n",
    "                      :'Q2 years'}, inplace = True)\n",
    "\n",
    "#all unique values should be in years now\n",
    "df3['Q2 years'].unique()"
   ]
  },
  {
   "cell_type": "code",
   "execution_count": 488,
   "metadata": {},
   "outputs": [
    {
     "data": {
      "text/plain": [
       "array([nan, '16', '14', '6', '15', '.75', '7', '1.5', '17', '23', '4',\n",
       "       '1', '2', '.5', '3', '0', '8', '25', '18.5', '18', '19', '10',\n",
       "       '13', '2.5', '9', '1.75', '3.5', '2.17', '2.33', '4.5', '1.33',\n",
       "       '3.83', '.83', '2.83', '1.17', '1.92', '1.08', '.92', '1.25', '11',\n",
       "       '3.92', '.67', '2.67', '2.25', '.25', '5', '.58', '28.5', '20',\n",
       "       '26', '3.75'], dtype=object)"
      ]
     },
     "execution_count": 488,
     "metadata": {},
     "output_type": "execute_result"
    }
   ],
   "source": [
    "#need to change 999 to missing\n",
    "df3['Q2 years']=df3['Q2 years'].replace({'999':np.NaN})\n",
    "\n",
    "#testing again\n",
    "df3['Q2 years'].unique()"
   ]
  },
  {
   "cell_type": "code",
   "execution_count": 489,
   "metadata": {},
   "outputs": [],
   "source": [
    "#need to change Q2 to a numeric column\n",
    "df3['Q2 years'] = pd.to_numeric(df3[\"Q2 years\"])"
   ]
  },
  {
   "cell_type": "code",
   "execution_count": 490,
   "metadata": {},
   "outputs": [
    {
     "data": {
      "text/plain": [
       "array([  nan, 16.  , 14.  ,  6.  , 15.  ,  0.75,  7.  ,  1.5 , 17.  ,\n",
       "       23.  ,  4.  ,  1.  ,  2.  ,  0.5 ,  3.  ,  0.  ,  8.  , 25.  ,\n",
       "       18.5 , 18.  , 19.  , 10.  , 13.  ,  2.5 ,  9.  ,  1.75,  3.5 ,\n",
       "        2.17,  2.33,  4.5 ,  1.33,  3.83,  0.83,  2.83,  1.17,  1.92,\n",
       "        1.08,  0.92,  1.25, 11.  ,  3.92,  0.67,  2.67,  2.25,  0.25,\n",
       "        5.  ,  0.58, 28.5 , 20.  , 26.  ,  3.75])"
      ]
     },
     "execution_count": 490,
     "metadata": {},
     "output_type": "execute_result"
    }
   ],
   "source": [
    "df3['Q2 years'].unique()"
   ]
  },
  {
   "cell_type": "code",
   "execution_count": 491,
   "metadata": {},
   "outputs": [
    {
     "data": {
      "text/plain": [
       "count    176.000000\n",
       "mean       4.491307\n",
       "std        5.775097\n",
       "min        0.000000\n",
       "25%        1.000000\n",
       "50%        2.000000\n",
       "75%        4.000000\n",
       "max       28.500000\n",
       "Name: Q2 years, dtype: float64"
      ]
     },
     "execution_count": 491,
     "metadata": {},
     "output_type": "execute_result"
    }
   ],
   "source": [
    "#Summary statistics for Q2\n",
    "df3['Q2 years'].describe()"
   ]
  },
  {
   "cell_type": "code",
   "execution_count": 492,
   "metadata": {},
   "outputs": [
    {
     "data": {
      "text/plain": [
       "<AxesSubplot:ylabel='Frequency'>"
      ]
     },
     "execution_count": 492,
     "metadata": {},
     "output_type": "execute_result"
    },
    {
     "data": {
      "image/png": "[encoded data removed]",
      "text/plain": [
       "<Figure size 842.4x595.44 with 1 Axes>"
      ]
     },
     "metadata": {},
     "output_type": "display_data"
    }
   ],
   "source": [
    "df3['Q2 years'].plot(kind='hist')"
   ]
  },
  {
   "cell_type": "markdown",
   "metadata": {},
   "source": [
    "### <b> Q3  </b>  \n",
    "\n",
    "Let's scope the responses...going to disregard this question for now, too messy."
   ]
  },
  {
   "cell_type": "code",
   "execution_count": 7,
   "metadata": {},
   "outputs": [],
   "source": [
    "#df3['Q3'].unique()"
   ]
  },
  {
   "cell_type": "markdown",
   "metadata": {},
   "source": [
    "### <b> Q4  </b>  \n",
    "\n",
    "\n",
    "Let's scope the responses..."
   ]
  },
  {
   "cell_type": "code",
   "execution_count": 494,
   "metadata": {},
   "outputs": [
    {
     "data": {
      "text/plain": [
       "array(['No', nan, 'Yes'], dtype=object)"
      ]
     },
     "execution_count": 494,
     "metadata": {},
     "output_type": "execute_result"
    }
   ],
   "source": [
    "df3['Q4'].unique()"
   ]
  },
  {
   "cell_type": "code",
   "execution_count": 495,
   "metadata": {},
   "outputs": [
    {
     "data": {
      "text/plain": [
       "<AxesSubplot:xlabel='Q4', ylabel='count'>"
      ]
     },
     "execution_count": 495,
     "metadata": {},
     "output_type": "execute_result"
    },
    {
     "data": {
      "image/png": "[encoded data removed]",
      "text/plain": [
       "<Figure size 842.4x595.44 with 1 Axes>"
      ]
     },
     "metadata": {},
     "output_type": "display_data"
    }
   ],
   "source": [
    "sns.set(rc={'figure.figsize':(11.7,8.27)})\n",
    "sns.set_style('darkgrid')\n",
    "sns.countplot(x =df3['Q4'])"
   ]
  },
  {
   "cell_type": "code",
   "execution_count": 496,
   "metadata": {},
   "outputs": [
    {
     "data": {
      "text/plain": [
       "array(['0', nan, '1'], dtype=object)"
      ]
     },
     "execution_count": 496,
     "metadata": {},
     "output_type": "execute_result"
    }
   ],
   "source": [
    "#changing No to 0, Yes to 1\n",
    "dict3 = {'No':'0', 'Yes': '1'}\n",
    "        \n",
    "df4=df3.replace({\"Q4\": dict3})\n",
    "\n",
    "#all unique values should be numbers now\n",
    "df4['Q4'].unique()\n"
   ]
  },
  {
   "cell_type": "code",
   "execution_count": 497,
   "metadata": {},
   "outputs": [
    {
     "data": {
      "text/plain": [
       "1      0.630769\n",
       "0      0.292308\n",
       "NaN    0.076923\n",
       "Name: Q4, dtype: float64"
      ]
     },
     "execution_count": 497,
     "metadata": {},
     "output_type": "execute_result"
    }
   ],
   "source": [
    "#what percent said Yes (1) and No (0) and how many missing?\n",
    "df4['Q4'].value_counts(normalize=True, dropna=False)"
   ]
  },
  {
   "cell_type": "code",
   "execution_count": 498,
   "metadata": {},
   "outputs": [
    {
     "data": {
      "text/plain": [
       "1      123\n",
       "0       57\n",
       "NaN     15\n",
       "Name: Q4, dtype: int64"
      ]
     },
     "execution_count": 498,
     "metadata": {},
     "output_type": "execute_result"
    }
   ],
   "source": [
    "#not as percents\n",
    "df4['Q4'].value_counts(dropna=False)"
   ]
  },
  {
   "cell_type": "code",
   "execution_count": 499,
   "metadata": {},
   "outputs": [],
   "source": [
    "#need to change to a numeric column\n",
    "df4[\"Q4\"] = pd.to_numeric(df4[\"Q4\"])"
   ]
  },
  {
   "cell_type": "markdown",
   "metadata": {},
   "source": [
    "### <b> Q5  </b>  \n",
    "\n",
    "Let's scope the responses...will come back to this"
   ]
  },
  {
   "cell_type": "code",
   "execution_count": 8,
   "metadata": {},
   "outputs": [],
   "source": [
    "#df4['Q5'].unique()"
   ]
  },
  {
   "cell_type": "markdown",
   "metadata": {},
   "source": [
    "### <b> Q6  </b>   \n",
    "\n",
    "Let's scope the responses...will come back to this"
   ]
  },
  {
   "cell_type": "code",
   "execution_count": 501,
   "metadata": {},
   "outputs": [
    {
     "data": {
      "text/plain": [
       "array(['No', nan, 'Yes'], dtype=object)"
      ]
     },
     "execution_count": 501,
     "metadata": {},
     "output_type": "execute_result"
    }
   ],
   "source": [
    "df4[\"Q6\"].unique()"
   ]
  },
  {
   "cell_type": "code",
   "execution_count": 502,
   "metadata": {
    "scrolled": true
   },
   "outputs": [
    {
     "data": {
      "text/plain": [
       "<AxesSubplot:xlabel='Q6', ylabel='count'>"
      ]
     },
     "execution_count": 502,
     "metadata": {},
     "output_type": "execute_result"
    },
    {
     "data": {
      "image/png": "[encoded data removed]",
      "text/plain": [
       "<Figure size 842.4x595.44 with 1 Axes>"
      ]
     },
     "metadata": {},
     "output_type": "display_data"
    }
   ],
   "source": [
    "sns.set(rc={'figure.figsize':(11.7,8.27)})\n",
    "sns.set_style('darkgrid')\n",
    "sns.countplot(x =df4[\"Q6\"])"
   ]
  },
  {
   "cell_type": "code",
   "execution_count": 503,
   "metadata": {},
   "outputs": [
    {
     "data": {
      "text/plain": [
       "array(['0', nan, '1'], dtype=object)"
      ]
     },
     "execution_count": 503,
     "metadata": {},
     "output_type": "execute_result"
    }
   ],
   "source": [
    "#changing No to 0, Yes to 1\n",
    "dict4 = {'No':'0', 'Yes': '1'}\n",
    "        \n",
    "df5=df4.replace({\"Q6\": dict4})\n",
    "\n",
    "#all unique values should be numbers now\n",
    "df5[\"Q6\"].unique()\n"
   ]
  },
  {
   "cell_type": "code",
   "execution_count": 504,
   "metadata": {},
   "outputs": [
    {
     "data": {
      "text/plain": [
       "0      0.574359\n",
       "1      0.220513\n",
       "NaN    0.205128\n",
       "Name: Q6, dtype: float64"
      ]
     },
     "execution_count": 504,
     "metadata": {},
     "output_type": "execute_result"
    }
   ],
   "source": [
    "#what percent said Yes (1) and No (0) and how many missing?\n",
    "df5[\"Q6\"].value_counts(normalize=True, dropna=False)"
   ]
  },
  {
   "cell_type": "code",
   "execution_count": 505,
   "metadata": {},
   "outputs": [
    {
     "data": {
      "text/plain": [
       "0      112\n",
       "1       43\n",
       "NaN     40\n",
       "Name: Q6, dtype: int64"
      ]
     },
     "execution_count": 505,
     "metadata": {},
     "output_type": "execute_result"
    }
   ],
   "source": [
    "df5[\"Q6\"].value_counts(dropna=False)"
   ]
  },
  {
   "cell_type": "code",
   "execution_count": 506,
   "metadata": {},
   "outputs": [],
   "source": [
    "#need to change to a numeric column\n",
    "df5[\"Q6\"] = pd.to_numeric(df5[\"Q6\"])"
   ]
  },
  {
   "cell_type": "markdown",
   "metadata": {},
   "source": [
    "### <b> Q7  </b>   \n",
    "\n",
    "Let's scope the responses...will come back to this"
   ]
  },
  {
   "cell_type": "code",
   "execution_count": 9,
   "metadata": {},
   "outputs": [],
   "source": [
    "#df5['Q7'].unique()"
   ]
  },
  {
   "cell_type": "markdown",
   "metadata": {},
   "source": [
    "### <b> Q8  </b>   \n",
    "\n",
    "Let's scope the responses...will come back to this"
   ]
  },
  {
   "cell_type": "code",
   "execution_count": 10,
   "metadata": {},
   "outputs": [],
   "source": [
    "#df5['Q8'].unique()"
   ]
  },
  {
   "cell_type": "markdown",
   "metadata": {},
   "source": [
    "### <b> Q9  </b>   \n",
    "\n",
    "Let's scope the responses...will come back to this"
   ]
  },
  {
   "cell_type": "code",
   "execution_count": 509,
   "metadata": {},
   "outputs": [
    {
     "name": "stdout",
     "output_type": "stream",
     "text": [
      "<class 'pandas.core.frame.DataFrame'>\n",
      "Int64Index: 195 entries, 1 to 195\n",
      "Data columns (total 17 columns):\n",
      " #   Column    Non-Null Count  Dtype  \n",
      "---  ------    --------------  -----  \n",
      " 0   Q1 years  177 non-null    float64\n",
      " 1   Q2 years  176 non-null    float64\n",
      " 2   Q3        173 non-null    object \n",
      " 3   Q4        180 non-null    float64\n",
      " 4   Q5        79 non-null     object \n",
      " 5   Q6        155 non-null    float64\n",
      " 6   Q7        39 non-null     object \n",
      " 7   Q8        98 non-null     object \n",
      " 8   Q9        73 non-null     object \n",
      " 9   Q10       109 non-null    object \n",
      " 10  Q11       109 non-null    object \n",
      " 11  Q12       149 non-null    object \n",
      " 12  Q13       17 non-null     object \n",
      " 13  Q14       112 non-null    object \n",
      " 14  Q15       86 non-null     object \n",
      " 15  Q16       152 non-null    object \n",
      " 16  Q17       17 non-null     object \n",
      "dtypes: float64(4), object(13)\n",
      "memory usage: 31.5+ KB\n"
     ]
    }
   ],
   "source": [
    "df5.info()"
   ]
  },
  {
   "cell_type": "code",
   "execution_count": 11,
   "metadata": {},
   "outputs": [],
   "source": [
    "#df5['Q9'].unique()"
   ]
  },
  {
   "cell_type": "markdown",
   "metadata": {},
   "source": [
    "### <b> Q10  </b>   \n",
    "\n",
    "Let's scope the responses...will come back to this"
   ]
  },
  {
   "cell_type": "code",
   "execution_count": 12,
   "metadata": {},
   "outputs": [],
   "source": [
    "#df5['Q10'].unique()"
   ]
  },
  {
   "cell_type": "markdown",
   "metadata": {},
   "source": [
    "### <b> Q11 </b>   \n",
    "\n",
    "Let's scope the responses...will come back to this"
   ]
  },
  {
   "cell_type": "code",
   "execution_count": 13,
   "metadata": {},
   "outputs": [],
   "source": [
    "#df5['Q11'].unique()"
   ]
  },
  {
   "cell_type": "markdown",
   "metadata": {},
   "source": [
    "### <b> Q12  </b>   \n",
    "\n",
    "Let's scope the responses...will come back to this"
   ]
  },
  {
   "cell_type": "code",
   "execution_count": 513,
   "metadata": {},
   "outputs": [
    {
     "data": {
      "text/plain": [
       "array(['No', nan, 'Yes'], dtype=object)"
      ]
     },
     "execution_count": 513,
     "metadata": {},
     "output_type": "execute_result"
    }
   ],
   "source": [
    "df5['Q12'].unique()"
   ]
  },
  {
   "cell_type": "code",
   "execution_count": 514,
   "metadata": {
    "scrolled": true
   },
   "outputs": [
    {
     "data": {
      "text/plain": [
       "<AxesSubplot:xlabel='Q12', ylabel='count'>"
      ]
     },
     "execution_count": 514,
     "metadata": {},
     "output_type": "execute_result"
    },
    {
     "data": {
      "image/png": "[encoded data removed]",
      "text/plain": [
       "<Figure size 842.4x595.44 with 1 Axes>"
      ]
     },
     "metadata": {},
     "output_type": "display_data"
    }
   ],
   "source": [
    "sns.set(rc={'figure.figsize':(11.7,8.27)})\n",
    "sns.set_style('darkgrid')\n",
    "sns.countplot(x =df5[\"Q12\"])"
   ]
  },
  {
   "cell_type": "code",
   "execution_count": 515,
   "metadata": {},
   "outputs": [
    {
     "data": {
      "text/plain": [
       "array(['0', nan, '1'], dtype=object)"
      ]
     },
     "execution_count": 515,
     "metadata": {},
     "output_type": "execute_result"
    }
   ],
   "source": [
    "#changing No to 0, Yes to 1\n",
    "yes_no = {'No':'0', 'Yes': '1'}\n",
    "        \n",
    "df6=df5.replace({\"Q12\": yes_no})\n",
    "\n",
    "#all unique values should be numbers now\n",
    "df6[\"Q12\"].unique()\n"
   ]
  },
  {
   "cell_type": "code",
   "execution_count": 516,
   "metadata": {},
   "outputs": [
    {
     "data": {
      "text/plain": [
       "0      0.605128\n",
       "NaN    0.235897\n",
       "1      0.158974\n",
       "Name: Q12, dtype: float64"
      ]
     },
     "execution_count": 516,
     "metadata": {},
     "output_type": "execute_result"
    }
   ],
   "source": [
    "#what percent said Yes (1) and No (0) and how many missing?\n",
    "df6[\"Q12\"].value_counts(normalize=True, dropna=False)"
   ]
  },
  {
   "cell_type": "code",
   "execution_count": 517,
   "metadata": {},
   "outputs": [
    {
     "data": {
      "text/plain": [
       "0      118\n",
       "NaN     46\n",
       "1       31\n",
       "Name: Q12, dtype: int64"
      ]
     },
     "execution_count": 517,
     "metadata": {},
     "output_type": "execute_result"
    }
   ],
   "source": [
    "df6[\"Q12\"].value_counts(dropna=False)"
   ]
  },
  {
   "cell_type": "code",
   "execution_count": 518,
   "metadata": {},
   "outputs": [],
   "source": [
    "#need to change to a numeric column\n",
    "df6[\"Q12\"] = pd.to_numeric(df6[\"Q12\"])"
   ]
  },
  {
   "cell_type": "markdown",
   "metadata": {},
   "source": [
    "### <b> Q13  </b>   \n",
    "\n",
    "Let's scope the responses...will come back to this"
   ]
  },
  {
   "cell_type": "code",
   "execution_count": 519,
   "metadata": {},
   "outputs": [
    {
     "name": "stdout",
     "output_type": "stream",
     "text": [
      "<class 'pandas.core.frame.DataFrame'>\n",
      "Int64Index: 195 entries, 1 to 195\n",
      "Data columns (total 17 columns):\n",
      " #   Column    Non-Null Count  Dtype  \n",
      "---  ------    --------------  -----  \n",
      " 0   Q1 years  177 non-null    float64\n",
      " 1   Q2 years  176 non-null    float64\n",
      " 2   Q3        173 non-null    object \n",
      " 3   Q4        180 non-null    float64\n",
      " 4   Q5        79 non-null     object \n",
      " 5   Q6        155 non-null    float64\n",
      " 6   Q7        39 non-null     object \n",
      " 7   Q8        98 non-null     object \n",
      " 8   Q9        73 non-null     object \n",
      " 9   Q10       109 non-null    object \n",
      " 10  Q11       109 non-null    object \n",
      " 11  Q12       149 non-null    float64\n",
      " 12  Q13       17 non-null     object \n",
      " 13  Q14       112 non-null    object \n",
      " 14  Q15       86 non-null     object \n",
      " 15  Q16       152 non-null    object \n",
      " 16  Q17       17 non-null     object \n",
      "dtypes: float64(5), object(12)\n",
      "memory usage: 31.5+ KB\n"
     ]
    }
   ],
   "source": [
    "df6.info()"
   ]
  },
  {
   "cell_type": "code",
   "execution_count": 14,
   "metadata": {},
   "outputs": [],
   "source": [
    "#df6['Q13'].unique()"
   ]
  },
  {
   "cell_type": "markdown",
   "metadata": {},
   "source": [
    "### <b> Q14  </b>   \n",
    "\n",
    "Let's scope the responses...will come back to this"
   ]
  },
  {
   "cell_type": "code",
   "execution_count": 15,
   "metadata": {},
   "outputs": [],
   "source": [
    "#df6['Q14'].unique()"
   ]
  },
  {
   "cell_type": "markdown",
   "metadata": {},
   "source": [
    "### <b> Q15  </b>   \n",
    "\n",
    "Let's scope the responses...will come back to this"
   ]
  },
  {
   "cell_type": "code",
   "execution_count": 522,
   "metadata": {},
   "outputs": [
    {
     "name": "stdout",
     "output_type": "stream",
     "text": [
      "<class 'pandas.core.frame.DataFrame'>\n",
      "Int64Index: 195 entries, 1 to 195\n",
      "Data columns (total 17 columns):\n",
      " #   Column    Non-Null Count  Dtype  \n",
      "---  ------    --------------  -----  \n",
      " 0   Q1 years  177 non-null    float64\n",
      " 1   Q2 years  176 non-null    float64\n",
      " 2   Q3        173 non-null    object \n",
      " 3   Q4        180 non-null    float64\n",
      " 4   Q5        79 non-null     object \n",
      " 5   Q6        155 non-null    float64\n",
      " 6   Q7        39 non-null     object \n",
      " 7   Q8        98 non-null     object \n",
      " 8   Q9        73 non-null     object \n",
      " 9   Q10       109 non-null    object \n",
      " 10  Q11       109 non-null    object \n",
      " 11  Q12       149 non-null    float64\n",
      " 12  Q13       17 non-null     object \n",
      " 13  Q14       112 non-null    object \n",
      " 14  Q15       86 non-null     object \n",
      " 15  Q16       152 non-null    object \n",
      " 16  Q17       17 non-null     object \n",
      "dtypes: float64(5), object(12)\n",
      "memory usage: 31.5+ KB\n"
     ]
    }
   ],
   "source": [
    "df6.info()"
   ]
  },
  {
   "cell_type": "code",
   "execution_count": 16,
   "metadata": {},
   "outputs": [],
   "source": [
    "#df6['Q15'].unique()"
   ]
  },
  {
   "cell_type": "markdown",
   "metadata": {},
   "source": [
    "### <b> Q16  </b>   \n",
    "\n",
    "Let's scope the responses...will come back to this"
   ]
  },
  {
   "cell_type": "code",
   "execution_count": 524,
   "metadata": {},
   "outputs": [
    {
     "data": {
      "text/plain": [
       "E3                  61\n",
       "E2                  35\n",
       "E4                  18\n",
       "E5                  12\n",
       "Spouse/Dependent     9\n",
       "O-5                  4\n",
       "E7                   3\n",
       "E8                   3\n",
       "E6                   2\n",
       "O-6                  1\n",
       "O-3                  1\n",
       "E9                   1\n",
       "Other                1\n",
       "O-4                  1\n",
       "Name: Q16, dtype: int64"
      ]
     },
     "execution_count": 524,
     "metadata": {},
     "output_type": "execute_result"
    }
   ],
   "source": [
    "df6['Q16'].value_counts()"
   ]
  },
  {
   "cell_type": "code",
   "execution_count": 525,
   "metadata": {},
   "outputs": [
    {
     "data": {
      "text/plain": [
       "E3                  61\n",
       "E2                  35\n",
       "E4                  18\n",
       "E5                  12\n",
       "Spouse/Dependent     9\n",
       "O5                   4\n",
       "E7                   3\n",
       "E8                   3\n",
       "E6                   2\n",
       "O6                   1\n",
       "O3                   1\n",
       "E9                   1\n",
       "Other                1\n",
       "O4                   1\n",
       "Name: Q16, dtype: int64"
      ]
     },
     "execution_count": 525,
     "metadata": {},
     "output_type": "execute_result"
    }
   ],
   "source": [
    "#going to change response values for Q16 to be uniform\n",
    "\n",
    "#Define Dict with the key-value pair to remap.\n",
    "rank_dict = {\"O-5\" : 'O5', \"O-4\": 'O4', \"O-6\": \"O6\", \"O-3\": 'O3'}\n",
    "\n",
    "#mapping dictionary onto variable we wish to change the values of\n",
    "df7=df6.replace({\"Q16\": rank_dict})\n",
    "\n",
    "df7['Q16'].value_counts()\n",
    "#hooray it worked!"
   ]
  },
  {
   "cell_type": "code",
   "execution_count": 526,
   "metadata": {},
   "outputs": [
    {
     "data": {
      "text/plain": [
       "<AxesSubplot:xlabel='Q16', ylabel='count'>"
      ]
     },
     "execution_count": 526,
     "metadata": {},
     "output_type": "execute_result"
    },
    {
     "data": {
      "image/png": "[encoded data removed]",
      "text/plain": [
       "<Figure size 842.4x595.44 with 1 Axes>"
      ]
     },
     "metadata": {},
     "output_type": "display_data"
    }
   ],
   "source": [
    "sns.set(rc={'figure.figsize':(11.7,8.27)})\n",
    "sns.set_style('darkgrid')\n",
    "sns.countplot(x =df7['Q16'])"
   ]
  },
  {
   "cell_type": "code",
   "execution_count": 527,
   "metadata": {},
   "outputs": [
    {
     "data": {
      "text/plain": [
       "array([nan, 'E7', 'Spouse/Dependent', 'E5', 'E3', 'O5', 'O6', 'E4', 'O3',\n",
       "       'E9', 'E8', 'Other', 'E6', 'E2', 'O4'], dtype=object)"
      ]
     },
     "execution_count": 527,
     "metadata": {},
     "output_type": "execute_result"
    }
   ],
   "source": [
    "df7['Q16'].unique()"
   ]
  },
  {
   "cell_type": "markdown",
   "metadata": {},
   "source": [
    "### Rank categories\n",
    "E1-E3: Junior (1)  \n",
    "E4-E5: NCO (2)  \n",
    "E6+: SNCO (3)  \n",
    "Officer: O1+ (4)  \n",
    "Spouse/Dep: (5)  \n",
    "Other: (6)  "
   ]
  },
  {
   "cell_type": "code",
   "execution_count": 528,
   "metadata": {},
   "outputs": [
    {
     "data": {
      "text/plain": [
       "array([nan, '3', '5', '2', '1', '4', '6'], dtype=object)"
      ]
     },
     "execution_count": 528,
     "metadata": {},
     "output_type": "execute_result"
    }
   ],
   "source": [
    "#need to code these values to be numbers so can use as a numeric value\n",
    "\n",
    "#Define Dict with the key-value pair to remap.\n",
    "##simply using all the unique values in Q1 - have to do manually because no consistency in values\n",
    "rank_cat = {\"E1\" : '1', \"E2\": '1', \"E3\": '1',\n",
    "        \"E4\": '2', \"E5\": '2',\n",
    "        \"E6\": '3', \"E7\": '3', \"E8\": '3', \"E9\": '3',\n",
    "         \"O5\": '4', \"O6\": '4', \"O4\": '4', \"O3\": '4',\n",
    "         \"Spouse/Dependent\": '5',\n",
    "         \"Other\": '6'\n",
    "        }\n",
    "\n",
    "#mapping dictionary onto variable we wish to change the values of\n",
    "df8 = df7.replace({'Q16': rank_cat}) \n",
    "\n",
    "#renmaing column\n",
    "df8.rename(columns = {'Q16':'Q16 rank_cat'}, inplace = True)\n",
    "\n",
    "#all unique values should be categories\n",
    "df8['Q16 rank_cat'].unique()\n",
    "#hooray it worked!"
   ]
  },
  {
   "cell_type": "code",
   "execution_count": 529,
   "metadata": {},
   "outputs": [
    {
     "data": {
      "text/plain": [
       "1    96\n",
       "2    30\n",
       "3     9\n",
       "5     9\n",
       "4     7\n",
       "6     1\n",
       "Name: Q16 rank_cat, dtype: int64"
      ]
     },
     "execution_count": 529,
     "metadata": {},
     "output_type": "execute_result"
    }
   ],
   "source": [
    "df8['Q16 rank_cat'].value_counts()\n",
    "\n",
    "#E1-E3: Junior (1)  \n",
    "#E4-E5: NCO (2)  \n",
    "#E6+: SNCO (3)  \n",
    "#Officer: O1+ (4)  \n",
    "#Spouse/Dep: (5)  \n",
    "#Other: (6) "
   ]
  },
  {
   "cell_type": "code",
   "execution_count": 530,
   "metadata": {},
   "outputs": [
    {
     "data": {
      "text/plain": [
       "<AxesSubplot:xlabel='Q16 rank_cat', ylabel='count'>"
      ]
     },
     "execution_count": 530,
     "metadata": {},
     "output_type": "execute_result"
    },
    {
     "data": {
      "image/png": "[encoded data removed]",
      "text/plain": [
       "<Figure size 842.4x595.44 with 1 Axes>"
      ]
     },
     "metadata": {},
     "output_type": "display_data"
    }
   ],
   "source": [
    "sns.set(rc={'figure.figsize':(11.7,8.27)})\n",
    "sns.set_style('darkgrid')\n",
    "sns.countplot(x =df8['Q16 rank_cat'])"
   ]
  },
  {
   "cell_type": "code",
   "execution_count": 531,
   "metadata": {},
   "outputs": [
    {
     "data": {
      "text/plain": [
       "1      0.492308\n",
       "NaN    0.220513\n",
       "2      0.153846\n",
       "3      0.046154\n",
       "5      0.046154\n",
       "4      0.035897\n",
       "6      0.005128\n",
       "Name: Q16 rank_cat, dtype: float64"
      ]
     },
     "execution_count": 531,
     "metadata": {},
     "output_type": "execute_result"
    }
   ],
   "source": [
    "df8[\"Q16 rank_cat\"].value_counts(normalize=True, dropna=False)\n",
    "\n",
    "#E1-E3: Junior (1)  \n",
    "#E4-E5: NCO (2)  \n",
    "#E6+: SNCO (3)  \n",
    "#Officer: O1+ (4)  \n",
    "#Spouse/Dep: (5)  \n",
    "#Other: (6)"
   ]
  },
  {
   "cell_type": "code",
   "execution_count": 532,
   "metadata": {},
   "outputs": [],
   "source": [
    "#need to change to a numeric column\n",
    "df8[\"Q16 rank_cat\"] = pd.to_numeric(df8[\"Q16 rank_cat\"])"
   ]
  },
  {
   "cell_type": "markdown",
   "metadata": {},
   "source": [
    "### <b> Q17  </b>   \n",
    "\n",
    "Let's scope the responses...will come back to this"
   ]
  },
  {
   "cell_type": "code",
   "execution_count": 17,
   "metadata": {},
   "outputs": [],
   "source": [
    "#df8['Q17'].value_counts()"
   ]
  },
  {
   "cell_type": "code",
   "execution_count": 18,
   "metadata": {},
   "outputs": [],
   "source": [
    "#running this to see if anyone put a value for Q17 but not Q16\n",
    "#df8.groupby(by=['Q16 rank_cat']).Q17.value_counts()\n",
    "#Total in above cell is 17 and total below is 17 so it makes sense...no one has a value for Q17 that didn't have a value for Q16"
   ]
  },
  {
   "cell_type": "code",
   "execution_count": 535,
   "metadata": {},
   "outputs": [
    {
     "data": {
      "text/html": [
       "<div>\n",
       "<style scoped>\n",
       "    .dataframe tbody tr th:only-of-type {\n",
       "        vertical-align: middle;\n",
       "    }\n",
       "\n",
       "    .dataframe tbody tr th {\n",
       "        vertical-align: top;\n",
       "    }\n",
       "\n",
       "    .dataframe thead th {\n",
       "        text-align: right;\n",
       "    }\n",
       "</style>\n",
       "<table border=\"1\" class=\"dataframe\">\n",
       "  <thead>\n",
       "    <tr style=\"text-align: right;\">\n",
       "      <th></th>\n",
       "      <th>Q1 years</th>\n",
       "      <th>Q2 years</th>\n",
       "      <th>Q3</th>\n",
       "      <th>Q4</th>\n",
       "      <th>Q5</th>\n",
       "      <th>Q6</th>\n",
       "      <th>Q7</th>\n",
       "      <th>Q8</th>\n",
       "      <th>Q9</th>\n",
       "      <th>Q10</th>\n",
       "      <th>Q11</th>\n",
       "      <th>Q12</th>\n",
       "      <th>Q13</th>\n",
       "      <th>Q14</th>\n",
       "      <th>Q15</th>\n",
       "      <th>Q16 rank_cat</th>\n",
       "    </tr>\n",
       "  </thead>\n",
       "  <tbody>\n",
       "    <tr>\n",
       "      <th>1</th>\n",
       "      <td>NaN</td>\n",
       "      <td>NaN</td>\n",
       "      <td>NaN</td>\n",
       "      <td>0.0</td>\n",
       "      <td>NaN</td>\n",
       "      <td>0.0</td>\n",
       "      <td>NaN</td>\n",
       "      <td>NaN</td>\n",
       "      <td>NaN</td>\n",
       "      <td>NaN</td>\n",
       "      <td>NaN</td>\n",
       "      <td>0.0</td>\n",
       "      <td>NaN</td>\n",
       "      <td>NaN</td>\n",
       "      <td>NaN</td>\n",
       "      <td>NaN</td>\n",
       "    </tr>\n",
       "    <tr>\n",
       "      <th>2</th>\n",
       "      <td>NaN</td>\n",
       "      <td>NaN</td>\n",
       "      <td>NaN</td>\n",
       "      <td>NaN</td>\n",
       "      <td>NaN</td>\n",
       "      <td>NaN</td>\n",
       "      <td>NaN</td>\n",
       "      <td>NaN</td>\n",
       "      <td>NaN</td>\n",
       "      <td>NaN</td>\n",
       "      <td>NaN</td>\n",
       "      <td>NaN</td>\n",
       "      <td>NaN</td>\n",
       "      <td>NaN</td>\n",
       "      <td>NaN</td>\n",
       "      <td>3.0</td>\n",
       "    </tr>\n",
       "    <tr>\n",
       "      <th>3</th>\n",
       "      <td>NaN</td>\n",
       "      <td>NaN</td>\n",
       "      <td>NaN</td>\n",
       "      <td>NaN</td>\n",
       "      <td>NaN</td>\n",
       "      <td>NaN</td>\n",
       "      <td>NaN</td>\n",
       "      <td>NaN</td>\n",
       "      <td>NaN</td>\n",
       "      <td>NaN</td>\n",
       "      <td>NaN</td>\n",
       "      <td>NaN</td>\n",
       "      <td>NaN</td>\n",
       "      <td>NaN</td>\n",
       "      <td>NaN</td>\n",
       "      <td>NaN</td>\n",
       "    </tr>\n",
       "    <tr>\n",
       "      <th>4</th>\n",
       "      <td>NaN</td>\n",
       "      <td>NaN</td>\n",
       "      <td>NaN</td>\n",
       "      <td>NaN</td>\n",
       "      <td>NaN</td>\n",
       "      <td>NaN</td>\n",
       "      <td>NaN</td>\n",
       "      <td>NaN</td>\n",
       "      <td>NaN</td>\n",
       "      <td>NaN</td>\n",
       "      <td>NaN</td>\n",
       "      <td>NaN</td>\n",
       "      <td>NaN</td>\n",
       "      <td>NaN</td>\n",
       "      <td>NaN</td>\n",
       "      <td>NaN</td>\n",
       "    </tr>\n",
       "    <tr>\n",
       "      <th>5</th>\n",
       "      <td>NaN</td>\n",
       "      <td>NaN</td>\n",
       "      <td>NaN</td>\n",
       "      <td>NaN</td>\n",
       "      <td>NaN</td>\n",
       "      <td>NaN</td>\n",
       "      <td>NaN</td>\n",
       "      <td>NaN</td>\n",
       "      <td>NaN</td>\n",
       "      <td>NaN</td>\n",
       "      <td>NaN</td>\n",
       "      <td>NaN</td>\n",
       "      <td>NaN</td>\n",
       "      <td>NaN</td>\n",
       "      <td>NaN</td>\n",
       "      <td>NaN</td>\n",
       "    </tr>\n",
       "  </tbody>\n",
       "</table>\n",
       "</div>"
      ],
      "text/plain": [
       "0  Q1 years  Q2 years   Q3   Q4   Q5   Q6   Q7   Q8   Q9  Q10  Q11  Q12  Q13  \\\n",
       "1       NaN       NaN  NaN  0.0  NaN  0.0  NaN  NaN  NaN  NaN  NaN  0.0  NaN   \n",
       "2       NaN       NaN  NaN  NaN  NaN  NaN  NaN  NaN  NaN  NaN  NaN  NaN  NaN   \n",
       "3       NaN       NaN  NaN  NaN  NaN  NaN  NaN  NaN  NaN  NaN  NaN  NaN  NaN   \n",
       "4       NaN       NaN  NaN  NaN  NaN  NaN  NaN  NaN  NaN  NaN  NaN  NaN  NaN   \n",
       "5       NaN       NaN  NaN  NaN  NaN  NaN  NaN  NaN  NaN  NaN  NaN  NaN  NaN   \n",
       "\n",
       "0  Q14  Q15  Q16 rank_cat  \n",
       "1  NaN  NaN           NaN  \n",
       "2  NaN  NaN           3.0  \n",
       "3  NaN  NaN           NaN  \n",
       "4  NaN  NaN           NaN  \n",
       "5  NaN  NaN           NaN  "
      ]
     },
     "execution_count": 535,
     "metadata": {},
     "output_type": "execute_result"
    }
   ],
   "source": [
    "#since Q17 is of no value, going to remove column\n",
    "df8.drop(columns=df8.columns[-1], \n",
    "        axis=1, \n",
    "        inplace=True)\n",
    "\n",
    "df8.head()"
   ]
  },
  {
   "cell_type": "markdown",
   "metadata": {},
   "source": [
    "# <b> 1.3 Final Dataset  </b>   \n",
    "Q1: How long have you been on [LOCATION]?  <b>Coded as YEARS</b>  \n",
    "Q2: How long have you been in the [DOD] (or connected to the [SERVICE COMPONENT], if civilian)?  <b>Coded as YEARS</b>  \n",
    "Q3: What are your current responsibilities or what do you do in a typical day here?  <b>Need to explore...</b>  \n",
    "Q4: Do you have awareness of the [CLINIC] and what it does?  <b>Coded as Yes (1), No (0)</b>  \n",
    "Q5: If yes, what have you seen or heard?  <b>Need to explore...</b>  \n",
    "Q6: Do you have awareness of the prevention services offered by the [CLINIC]?  <b>Coded as Yes (1), No (0)</b>    \n",
    "Q7: If yes, what have you seen or heard?  <b>Need to explore...</b>  \n",
    "Q8: In your opinion, what can [CLINIC] Prevention & Education Specialists do to support [SERVICE MEMBER] and their families in [LOCATION]?  <b>Need to explore...</b>  \n",
    "Q9: Do you have any other thoughts or suggestions?  <b>Need to explore...</b>  \n",
    "Q10: What is your impression of the relationships [SERVICE MEMBER] have with their children here in [LOCATION]?  <b>Need to explore...</b>  \n",
    "Q11: What is your impression of the relationships [SERVICE MEMBER] have with their significant others in [LOCATION]?  <b>Need to explore...</b>  \n",
    "Q12: Do you think there are problems here related to child abuse or domestic abuse?  <b>Coded as Yes (1), No (0)</b>  \n",
    "Q13: If yes, can you tell us about those problems?   <b>Need to explore...</b>    \n",
    "Q14: Can you tell me about your command's approach here related to family violence?  <b>Need to explore...</b>  \n",
    "Q15: Is there anything else you'd like to comment on?  <b>Need to explore...</b>  \n",
    "Q16: What is your rank/grade?  <b>Coded as Junior (1) NCO (2) SNCO (3) O1+ (4) Spouse/Dep (5) Other (6)</b>  \n",
    "\n"
   ]
  },
  {
   "cell_type": "code",
   "execution_count": 536,
   "metadata": {},
   "outputs": [
    {
     "name": "stdout",
     "output_type": "stream",
     "text": [
      "<class 'pandas.core.frame.DataFrame'>\n",
      "Int64Index: 195 entries, 1 to 195\n",
      "Data columns (total 16 columns):\n",
      " #   Column        Non-Null Count  Dtype  \n",
      "---  ------        --------------  -----  \n",
      " 0   Q1 years      177 non-null    float64\n",
      " 1   Q2 years      176 non-null    float64\n",
      " 2   Q3            173 non-null    object \n",
      " 3   Q4            180 non-null    float64\n",
      " 4   Q5            79 non-null     object \n",
      " 5   Q6            155 non-null    float64\n",
      " 6   Q7            39 non-null     object \n",
      " 7   Q8            98 non-null     object \n",
      " 8   Q9            73 non-null     object \n",
      " 9   Q10           109 non-null    object \n",
      " 10  Q11           109 non-null    object \n",
      " 11  Q12           149 non-null    float64\n",
      " 12  Q13           17 non-null     object \n",
      " 13  Q14           112 non-null    object \n",
      " 14  Q15           86 non-null     object \n",
      " 15  Q16 rank_cat  152 non-null    float64\n",
      "dtypes: float64(6), object(10)\n",
      "memory usage: 30.0+ KB\n"
     ]
    }
   ],
   "source": [
    "df8.info()"
   ]
  },
  {
   "cell_type": "code",
   "execution_count": 19,
   "metadata": {},
   "outputs": [],
   "source": [
    "#df8.head()"
   ]
  },
  {
   "cell_type": "code",
   "execution_count": 538,
   "metadata": {},
   "outputs": [
    {
     "data": {
      "text/plain": [
       "(195, 16)"
      ]
     },
     "execution_count": 538,
     "metadata": {},
     "output_type": "execute_result"
    }
   ],
   "source": [
    "df8.shape"
   ]
  },
  {
   "cell_type": "code",
   "execution_count": 539,
   "metadata": {},
   "outputs": [],
   "source": [
    "df = df8"
   ]
  },
  {
   "cell_type": "markdown",
   "metadata": {},
   "source": [
    "# 1.4 Text Preprocessing\n",
    "\n",
    "- addressing null values\n",
    "- change one respondent's japanese text to english\n",
    "- make all lower case\n",
    "- expand all contractions out (i.e., you're to become you are)\n",
    "- remove all non alphanumeric characters, eg, quotes, punctuation, brackets, etc.\n",
    "- lemmatize text\n",
    "\n",
    "### <i>The below questions will have text pre-processing applied to them:</i>  \n",
    "Q3: What are your current responsibilities or what do you do in a typical day here?  <b>Need to explore...</b>  \n",
    "Q5: If yes, what have you seen or heard?  <b>Need to explore...</b>  \n",
    "Q7: If yes, what have you seen or heard?  <b>Need to explore...</b>  \n",
    "Q8: In your opinion, what can [CLINIC] Prevention & Education Specialists do to support [SERVICE MEMBER] and their families in [LOCATION]?  <b>Need to explore...</b>  \n",
    "Q9: Do you have any other thoughts or suggestions?  <b>Need to explore...</b>  \n",
    "Q10: What is your impression of the relationships [SERVICE MEMBERS] have with their children here in [LOCATION]?  <b>Need to explore...</b>  \n",
    "Q11: What is your impression of the relationships [SERVICE MEMBERS] have with their significant others in [LOCATION]?  <b>Need to explore...</b>  \n",
    "Q13: If yes, can you tell us about those problems?   <b>Need to explore...</b>    \n",
    "Q14: Can you tell me about your command's approach here related to family violence?  <b>Need to explore...</b>  \n",
    "Q15: Is there anything else you'd like to comment on?  <b>Need to explore...</b>  "
   ]
  },
  {
   "cell_type": "code",
   "execution_count": 540,
   "metadata": {},
   "outputs": [],
   "source": [
    "#addressing null values\n",
    "#going to impute IGNORE and then delete later\n",
    "df.fillna(\"IGNORE\", inplace=True)"
   ]
  },
  {
   "cell_type": "code",
   "execution_count": 541,
   "metadata": {},
   "outputs": [
    {
     "name": "stdout",
     "output_type": "stream",
     "text": [
      "<class 'pandas.core.frame.DataFrame'>\n",
      "Int64Index: 195 entries, 1 to 195\n",
      "Data columns (total 16 columns):\n",
      " #   Column        Non-Null Count  Dtype \n",
      "---  ------        --------------  ----- \n",
      " 0   Q1 years      195 non-null    object\n",
      " 1   Q2 years      195 non-null    object\n",
      " 2   Q3            195 non-null    object\n",
      " 3   Q4            195 non-null    object\n",
      " 4   Q5            195 non-null    object\n",
      " 5   Q6            195 non-null    object\n",
      " 6   Q7            195 non-null    object\n",
      " 7   Q8            195 non-null    object\n",
      " 8   Q9            195 non-null    object\n",
      " 9   Q10           195 non-null    object\n",
      " 10  Q11           195 non-null    object\n",
      " 11  Q12           195 non-null    object\n",
      " 12  Q13           195 non-null    object\n",
      " 13  Q14           195 non-null    object\n",
      " 14  Q15           195 non-null    object\n",
      " 15  Q16 rank_cat  195 non-null    object\n",
      "dtypes: object(16)\n",
      "memory usage: 30.0+ KB\n"
     ]
    }
   ],
   "source": [
    "df.info()\n",
    "#hooray it worked"
   ]
  },
  {
   "cell_type": "markdown",
   "metadata": {},
   "source": [
    "### 1.4.1 changing respondent text to english"
   ]
  },
  {
   "cell_type": "code",
   "execution_count": 542,
   "metadata": {},
   "outputs": [
    {
     "data": {
      "text/plain": [
       "Int64Index([25], dtype='int64')"
      ]
     },
     "execution_count": 542,
     "metadata": {},
     "output_type": "execute_result"
    }
   ],
   "source": [
    "#Finding which row is the foreign language text...\n",
    "#it is index/row 25\n",
    "df['Q8'].loc[lambda x: x=='心のケア'].index"
   ]
  },
  {
   "cell_type": "code",
   "execution_count": 543,
   "metadata": {},
   "outputs": [
    {
     "data": {
      "text/html": [
       "<div>\n",
       "<style scoped>\n",
       "    .dataframe tbody tr th:only-of-type {\n",
       "        vertical-align: middle;\n",
       "    }\n",
       "\n",
       "    .dataframe tbody tr th {\n",
       "        vertical-align: top;\n",
       "    }\n",
       "\n",
       "    .dataframe thead th {\n",
       "        text-align: right;\n",
       "    }\n",
       "</style>\n",
       "<table border=\"1\" class=\"dataframe\">\n",
       "  <thead>\n",
       "    <tr style=\"text-align: right;\">\n",
       "      <th></th>\n",
       "      <th>Q1 years</th>\n",
       "      <th>Q2 years</th>\n",
       "      <th>Q3</th>\n",
       "      <th>Q4</th>\n",
       "      <th>Q5</th>\n",
       "      <th>Q6</th>\n",
       "      <th>Q7</th>\n",
       "      <th>Q8</th>\n",
       "      <th>Q9</th>\n",
       "      <th>Q10</th>\n",
       "      <th>Q11</th>\n",
       "      <th>Q12</th>\n",
       "      <th>Q13</th>\n",
       "      <th>Q14</th>\n",
       "      <th>Q15</th>\n",
       "      <th>Q16 rank_cat</th>\n",
       "    </tr>\n",
       "  </thead>\n",
       "  <tbody>\n",
       "    <tr>\n",
       "      <th>25</th>\n",
       "      <td>0.25</td>\n",
       "      <td>0.5</td>\n",
       "      <td>保育士</td>\n",
       "      <td>1.0</td>\n",
       "      <td>IGNORE</td>\n",
       "      <td>0.0</td>\n",
       "      <td>IGNORE</td>\n",
       "      <td>心のケア</td>\n",
       "      <td>IGNORE</td>\n",
       "      <td>とても素晴らしい</td>\n",
       "      <td>優しい、フレンドリー</td>\n",
       "      <td>0.0</td>\n",
       "      <td>IGNORE</td>\n",
       "      <td>IGNORE</td>\n",
       "      <td>IGNORE</td>\n",
       "      <td>5.0</td>\n",
       "    </tr>\n",
       "  </tbody>\n",
       "</table>\n",
       "</div>"
      ],
      "text/plain": [
       "0  Q1 years Q2 years   Q3   Q4      Q5   Q6      Q7    Q8      Q9       Q10  \\\n",
       "25     0.25      0.5  保育士  1.0  IGNORE  0.0  IGNORE  心のケア  IGNORE  とても素晴らしい   \n",
       "\n",
       "0          Q11  Q12     Q13     Q14     Q15 Q16 rank_cat  \n",
       "25  優しい、フレンドリー  0.0  IGNORE  IGNORE  IGNORE          5.0  "
      ]
     },
     "execution_count": 543,
     "metadata": {},
     "output_type": "execute_result"
    }
   ],
   "source": [
    "#here is the row w/ japanese text\n",
    "df.loc[[25]]"
   ]
  },
  {
   "cell_type": "code",
   "execution_count": 544,
   "metadata": {},
   "outputs": [
    {
     "name": "stdout",
     "output_type": "stream",
     "text": [
      "Nanny\n"
     ]
    }
   ],
   "source": [
    "#changing to english\n",
    "#https://www.tutorialspoint.com/python_text_processing/python_text_translation.htm\n",
    "from translate import Translator\n",
    "translator= Translator(from_lang=\"japanese\",to_lang=\"english\")\n",
    "Q3 = translator.translate(\"保育士\")\n",
    "print(Q3)"
   ]
  },
  {
   "cell_type": "code",
   "execution_count": 545,
   "metadata": {},
   "outputs": [
    {
     "data": {
      "text/html": [
       "<div>\n",
       "<style scoped>\n",
       "    .dataframe tbody tr th:only-of-type {\n",
       "        vertical-align: middle;\n",
       "    }\n",
       "\n",
       "    .dataframe tbody tr th {\n",
       "        vertical-align: top;\n",
       "    }\n",
       "\n",
       "    .dataframe thead th {\n",
       "        text-align: right;\n",
       "    }\n",
       "</style>\n",
       "<table border=\"1\" class=\"dataframe\">\n",
       "  <thead>\n",
       "    <tr style=\"text-align: right;\">\n",
       "      <th></th>\n",
       "      <th>Q1 years</th>\n",
       "      <th>Q2 years</th>\n",
       "      <th>Q3</th>\n",
       "      <th>Q4</th>\n",
       "      <th>Q5</th>\n",
       "      <th>Q6</th>\n",
       "      <th>Q7</th>\n",
       "      <th>Q8</th>\n",
       "      <th>Q9</th>\n",
       "      <th>Q10</th>\n",
       "      <th>Q11</th>\n",
       "      <th>Q12</th>\n",
       "      <th>Q13</th>\n",
       "      <th>Q14</th>\n",
       "      <th>Q15</th>\n",
       "      <th>Q16 rank_cat</th>\n",
       "    </tr>\n",
       "  </thead>\n",
       "  <tbody>\n",
       "    <tr>\n",
       "      <th>25</th>\n",
       "      <td>0.25</td>\n",
       "      <td>0.5</td>\n",
       "      <td>保育士</td>\n",
       "      <td>1.0</td>\n",
       "      <td>IGNORE</td>\n",
       "      <td>0.0</td>\n",
       "      <td>IGNORE</td>\n",
       "      <td>心のケア</td>\n",
       "      <td>IGNORE</td>\n",
       "      <td>とても素晴らしい</td>\n",
       "      <td>優しい、フレンドリー</td>\n",
       "      <td>0.0</td>\n",
       "      <td>IGNORE</td>\n",
       "      <td>IGNORE</td>\n",
       "      <td>IGNORE</td>\n",
       "      <td>5.0</td>\n",
       "    </tr>\n",
       "  </tbody>\n",
       "</table>\n",
       "</div>"
      ],
      "text/plain": [
       "0  Q1 years Q2 years   Q3   Q4      Q5   Q6      Q7    Q8      Q9       Q10  \\\n",
       "25     0.25      0.5  保育士  1.0  IGNORE  0.0  IGNORE  心のケア  IGNORE  とても素晴らしい   \n",
       "\n",
       "0          Q11  Q12     Q13     Q14     Q15 Q16 rank_cat  \n",
       "25  優しい、フレンドリー  0.0  IGNORE  IGNORE  IGNORE          5.0  "
      ]
     },
     "execution_count": 545,
     "metadata": {},
     "output_type": "execute_result"
    }
   ],
   "source": [
    "#replacing Q3 with new english value\n",
    "df.at[25,'Q3'] = 'Nanny'\n",
    "#sanity check\n",
    "df.loc[[25]]"
   ]
  },
  {
   "cell_type": "code",
   "execution_count": 546,
   "metadata": {},
   "outputs": [
    {
     "name": "stdout",
     "output_type": "stream",
     "text": [
      "Mental Health It's just wonderful. F R I E N D L Y\n"
     ]
    }
   ],
   "source": [
    "#repeating these steps for the remaining questions\n",
    "Q8 = translator.translate(\"心のケア\")\n",
    "Q10 = translator.translate(\"とても素晴らしい\")\n",
    "Q11 = translator.translate(\"優しい、フレンドリー\")\n",
    "print(Q8, Q10, Q11)"
   ]
  },
  {
   "cell_type": "code",
   "execution_count": 547,
   "metadata": {},
   "outputs": [
    {
     "data": {
      "text/html": [
       "<div>\n",
       "<style scoped>\n",
       "    .dataframe tbody tr th:only-of-type {\n",
       "        vertical-align: middle;\n",
       "    }\n",
       "\n",
       "    .dataframe tbody tr th {\n",
       "        vertical-align: top;\n",
       "    }\n",
       "\n",
       "    .dataframe thead th {\n",
       "        text-align: right;\n",
       "    }\n",
       "</style>\n",
       "<table border=\"1\" class=\"dataframe\">\n",
       "  <thead>\n",
       "    <tr style=\"text-align: right;\">\n",
       "      <th></th>\n",
       "      <th>Q1 years</th>\n",
       "      <th>Q2 years</th>\n",
       "      <th>Q3</th>\n",
       "      <th>Q4</th>\n",
       "      <th>Q5</th>\n",
       "      <th>Q6</th>\n",
       "      <th>Q7</th>\n",
       "      <th>Q8</th>\n",
       "      <th>Q9</th>\n",
       "      <th>Q10</th>\n",
       "      <th>Q11</th>\n",
       "      <th>Q12</th>\n",
       "      <th>Q13</th>\n",
       "      <th>Q14</th>\n",
       "      <th>Q15</th>\n",
       "      <th>Q16 rank_cat</th>\n",
       "    </tr>\n",
       "  </thead>\n",
       "  <tbody>\n",
       "    <tr>\n",
       "      <th>25</th>\n",
       "      <td>0.25</td>\n",
       "      <td>0.5</td>\n",
       "      <td>保育士</td>\n",
       "      <td>1.0</td>\n",
       "      <td>IGNORE</td>\n",
       "      <td>0.0</td>\n",
       "      <td>IGNORE</td>\n",
       "      <td>心のケア</td>\n",
       "      <td>IGNORE</td>\n",
       "      <td>とても素晴らしい</td>\n",
       "      <td>優しい、フレンドリー</td>\n",
       "      <td>0.0</td>\n",
       "      <td>IGNORE</td>\n",
       "      <td>IGNORE</td>\n",
       "      <td>IGNORE</td>\n",
       "      <td>5.0</td>\n",
       "    </tr>\n",
       "  </tbody>\n",
       "</table>\n",
       "</div>"
      ],
      "text/plain": [
       "0  Q1 years Q2 years   Q3   Q4      Q5   Q6      Q7    Q8      Q9       Q10  \\\n",
       "25     0.25      0.5  保育士  1.0  IGNORE  0.0  IGNORE  心のケア  IGNORE  とても素晴らしい   \n",
       "\n",
       "0          Q11  Q12     Q13     Q14     Q15 Q16 rank_cat  \n",
       "25  優しい、フレンドリー  0.0  IGNORE  IGNORE  IGNORE          5.0  "
      ]
     },
     "execution_count": 547,
     "metadata": {},
     "output_type": "execute_result"
    }
   ],
   "source": [
    "#replacing with new english values\n",
    "df.at[25,'Q8'] = 'Mental Health'\n",
    "df.at[25,'Q10'] = 'It is just wonderful.'\n",
    "df.at[25,'Q11'] = 'friendly'\n",
    "#sanity check\n",
    "df.loc[[25]]"
   ]
  },
  {
   "cell_type": "code",
   "execution_count": 548,
   "metadata": {},
   "outputs": [],
   "source": [
    "#first need to convert the string variables to str data type\n",
    "df['Q3']=df['Q3'].astype(str)\n",
    "df['Q5']=df['Q5'].astype(str)\n",
    "df['Q7']=df['Q7'].astype(str)\n",
    "df['Q8']=df['Q8'].astype(str)\n",
    "df['Q9']=df['Q9'].astype(str)\n",
    "df['Q10']=df['Q10'].astype(str)\n",
    "df['Q11']=df['Q11'].astype(str)\n",
    "df['Q13']=df['Q13'].astype(str)\n",
    "df['Q14']=df['Q14'].astype(str)\n",
    "df['Q15']=df['Q15'].astype(str)"
   ]
  },
  {
   "cell_type": "markdown",
   "metadata": {},
   "source": [
    "### 1.4.2. Making all text lowercase"
   ]
  },
  {
   "cell_type": "code",
   "execution_count": 549,
   "metadata": {},
   "outputs": [],
   "source": [
    "#making all text lowercase\n",
    "df['Q3'] = df['Q3'].map(lambda x: x.lower())\n",
    "df['Q5'] = df['Q5'].map(lambda x: x.lower())\n",
    "df['Q7'] = df['Q7'].map(lambda x: x.lower())\n",
    "df['Q8'] = df['Q8'].map(lambda x: x.lower())\n",
    "df['Q9'] = df['Q9'].map(lambda x: x.lower())\n",
    "df['Q10'] = df['Q10'].map(lambda x: x.lower())\n",
    "df['Q11'] = df['Q11'].map(lambda x: x.lower())\n",
    "df['Q13'] = df['Q13'].map(lambda x: x.lower())\n",
    "df['Q14'] = df['Q14'].map(lambda x: x.lower())\n",
    "df['Q15'] = df['Q15'].map(lambda x: x.lower())"
   ]
  },
  {
   "cell_type": "markdown",
   "metadata": {},
   "source": [
    "### 1.4.3. Expanding all contractions"
   ]
  },
  {
   "cell_type": "code",
   "execution_count": 550,
   "metadata": {},
   "outputs": [],
   "source": [
    "#expanding all the contractions\n",
    "#code from: https://www.analyticsvidhya.com/blog/2022/01/text-cleaning-methods-in-nlp/\n",
    "#https://www.geeksforgeeks.org/nlp-expand-contractions-in-text-processing/\n",
    "df['Q3'] = df['Q3'].map(lambda x: contractions.fix(x))\n",
    "df['Q5'] = df['Q5'].map(lambda x: contractions.fix(x))\n",
    "df['Q7'] = df['Q7'].map(lambda x: contractions.fix(x))\n",
    "df['Q8'] = df['Q8'].map(lambda x: contractions.fix(x))\n",
    "df['Q9'] = df['Q9'].map(lambda x: contractions.fix(x))\n",
    "df['Q10'] = df['Q10'].map(lambda x: contractions.fix(x))\n",
    "df['Q11'] = df['Q11'].map(lambda x: contractions.fix(x))\n",
    "df['Q13'] = df['Q13'].map(lambda x: contractions.fix(x))\n",
    "df['Q14'] = df['Q14'].map(lambda x: contractions.fix(x))\n",
    "df['Q15'] = df['Q15'].map(lambda x: contractions.fix(x))"
   ]
  },
  {
   "cell_type": "markdown",
   "metadata": {},
   "source": [
    "### 1.4.4 Removing all non alphanumeric characters"
   ]
  },
  {
   "cell_type": "code",
   "execution_count": 551,
   "metadata": {},
   "outputs": [],
   "source": [
    "#removing all non alphanumeric characters, eg, quotes, punctuation, brackets, etc\n",
    "df['Q3'] = df['Q3'].map(lambda x: re.sub(r'[^A-Za-z]+', ' ', x))\n",
    "df['Q5'] = df['Q5'].map(lambda x: re.sub(r'[^A-Za-z]+', ' ', x))\n",
    "df['Q7'] = df['Q7'].map(lambda x: re.sub(r'[^A-Za-z]+', ' ', x))\n",
    "df['Q8'] = df['Q8'].map(lambda x: re.sub(r'[^A-Za-z]+', ' ', x))\n",
    "df['Q9'] = df['Q9'].map(lambda x: re.sub(r'[^A-Za-z]+', ' ', x))\n",
    "df['Q10'] = df['Q10'].map(lambda x: re.sub(r'[^A-Za-z]+', ' ', x))\n",
    "df['Q11'] = df['Q11'].map(lambda x: re.sub(r'[^A-Za-z]+', ' ', x))\n",
    "df['Q13']= df['Q13'].map(lambda x: re.sub(r'[^A-Za-z]+', ' ', x))\n",
    "df['Q14'] = df['Q14'].map(lambda x: re.sub(r'[^A-Za-z]+', ' ', x))\n",
    "df['Q15']= df['Q15'].map(lambda x: re.sub(r'[^A-Za-z]+', ' ', x))"
   ]
  },
  {
   "cell_type": "code",
   "execution_count": 20,
   "metadata": {},
   "outputs": [],
   "source": [
    "#sanity check\n",
    "#df['Q15'].unique()"
   ]
  },
  {
   "cell_type": "markdown",
   "metadata": {},
   "source": [
    "### 1.4.6 Spell checking\n",
    "https://medium.com/@nutanbhogendrasharma/spelling-correction-of-the-text-data-in-natural-language-processing-e9848407cf3b"
   ]
  },
  {
   "cell_type": "code",
   "execution_count": 553,
   "metadata": {},
   "outputs": [
    {
     "name": "stdout",
     "output_type": "stream",
     "text": [
      "Requirement already satisfied: autocorrect in /Users/nicole/opt/anaconda3/envs/unsupervised/lib/python3.8/site-packages (2.6.1)\r\n"
     ]
    }
   ],
   "source": [
    "!pip install autocorrect"
   ]
  },
  {
   "cell_type": "code",
   "execution_count": 554,
   "metadata": {},
   "outputs": [],
   "source": [
    "from autocorrect import Speller"
   ]
  },
  {
   "cell_type": "code",
   "execution_count": 555,
   "metadata": {},
   "outputs": [],
   "source": [
    "spell1 = Speller()"
   ]
  },
  {
   "cell_type": "code",
   "execution_count": 21,
   "metadata": {},
   "outputs": [],
   "source": [
    "#df['Q5'].head(50)"
   ]
  },
  {
   "cell_type": "code",
   "execution_count": 22,
   "metadata": {},
   "outputs": [],
   "source": [
    "#df['Q5'].apply(lambda x: str(spell1(x)))"
   ]
  },
  {
   "cell_type": "code",
   "execution_count": 23,
   "metadata": {},
   "outputs": [],
   "source": [
    "#df['Q5'].head(50)"
   ]
  },
  {
   "cell_type": "code",
   "execution_count": 26,
   "metadata": {},
   "outputs": [],
   "source": [
    "#df['Q7'].apply(lambda x: str(spell1(x)))\n",
    "#df['Q8'].apply(lambda x: str(spell1(x)))\n",
    "#df['Q9'].apply(lambda x: str(spell1(x)))\n",
    "#df['Q10'].apply(lambda x: str(spell1(x)))\n",
    "#df['Q11'].apply(lambda x: str(spell1(x)))\n",
    "#df['Q13'].apply(lambda x: str(spell1(x)))\n",
    "#df['Q14'].apply(lambda x: str(spell1(x)))\n",
    "#df['Q15'].apply(lambda x: str(spell1(x)))"
   ]
  },
  {
   "cell_type": "code",
   "execution_count": 560,
   "metadata": {},
   "outputs": [],
   "source": [
    "#let's replace all IGNORE as NaN\n",
    "#need to change if nan, to missing because it's not picking up on it\n",
    "df.replace('IGNORE', np.NaN, inplace=True)\n",
    "df.replace('ignore', np.NaN, inplace=True)\n",
    "df.replace('[ignore]', np.NaN, inplace=True)\n",
    "df.replace('None', np.NaN, inplace=True)"
   ]
  },
  {
   "cell_type": "code",
   "execution_count": 24,
   "metadata": {},
   "outputs": [],
   "source": [
    "#df.head(10)"
   ]
  },
  {
   "cell_type": "code",
   "execution_count": 562,
   "metadata": {},
   "outputs": [],
   "source": [
    "#deleting rows of just blank missing data across all columns\n",
    "df = df.dropna(how = 'all')"
   ]
  },
  {
   "cell_type": "code",
   "execution_count": 25,
   "metadata": {},
   "outputs": [],
   "source": [
    "#df"
   ]
  },
  {
   "cell_type": "code",
   "execution_count": 564,
   "metadata": {},
   "outputs": [
    {
     "name": "stdout",
     "output_type": "stream",
     "text": [
      "<class 'pandas.core.frame.DataFrame'>\n",
      "Int64Index: 182 entries, 1 to 195\n",
      "Data columns (total 16 columns):\n",
      " #   Column        Non-Null Count  Dtype  \n",
      "---  ------        --------------  -----  \n",
      " 0   Q1 years      177 non-null    float64\n",
      " 1   Q2 years      176 non-null    float64\n",
      " 2   Q3            173 non-null    object \n",
      " 3   Q4            180 non-null    float64\n",
      " 4   Q5            79 non-null     object \n",
      " 5   Q6            155 non-null    float64\n",
      " 6   Q7            39 non-null     object \n",
      " 7   Q8            98 non-null     object \n",
      " 8   Q9            73 non-null     object \n",
      " 9   Q10           109 non-null    object \n",
      " 10  Q11           109 non-null    object \n",
      " 11  Q12           149 non-null    float64\n",
      " 12  Q13           17 non-null     object \n",
      " 13  Q14           112 non-null    object \n",
      " 14  Q15           86 non-null     object \n",
      " 15  Q16 rank_cat  152 non-null    float64\n",
      "dtypes: float64(6), object(10)\n",
      "memory usage: 24.2+ KB\n"
     ]
    }
   ],
   "source": [
    "df.info()"
   ]
  },
  {
   "cell_type": "code",
   "execution_count": 565,
   "metadata": {},
   "outputs": [],
   "source": [
    "df.to_pickle(\"df_clean_no_lemma.pkl\")  \n",
    "#this is our clean dataset BEFORE LEMMATIZATION \n",
    "#which will be turned into varying corpi\n",
    "#we have a varying # of rows across a varying number of columns.\n",
    "#each string question will be its own text with the rows as the respondents aka \"documents\""
   ]
  }
 ],
 "metadata": {
  "kernelspec": {
   "display_name": "Python 3 (unsupervised)",
   "language": "python",
   "name": "unsupervised"
  },
  "language_info": {
   "codemirror_mode": {
    "name": "ipython",
    "version": 3
   },
   "file_extension": ".py",
   "mimetype": "text/x-python",
   "name": "python",
   "nbconvert_exporter": "python",
   "pygments_lexer": "ipython3",
   "version": "3.9.7"
  }
 },
 "nbformat": 4,
 "nbformat_minor": 2
}
